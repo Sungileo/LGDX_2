{
 "cells": [
  {
   "cell_type": "markdown",
   "metadata": {},
   "source": [
    "---\n",
    "title: \"보험 데이터 분석\"\n",
    "author: \"박성일\"\n",
    "date: \"2024-08-23\"\n",
    "description: \"자동차보험 데이터 분석\"\n",
    "image: \"data/insurance.png\"\n",
    "format: \n",
    "  html:\n",
    "    toc: true\n",
    "\n",
    "---"
   ]
  },
  {
   "cell_type": "markdown",
   "metadata": {},
   "source": [
    "## **보험**\n",
    "\n",
    "**保險** (보호할 보, 위험 험), 위험에서 보호한다. <br>사고가 일어날 경우를 대비하여, 공통으로 그 사고의 위협을 받는 사람들이 미리 일정한 돈을 적립해 두었다가, <br>사고를 당한 사람에게 일정 금액을 주어 손해를 보상하는 제도.\n"
   ]
  },
  {
   "cell_type": "markdown",
   "metadata": {},
   "source": [
    "# 1. 빈도와 심도\n",
    "\n",
    "## 1.1 용어\n",
    "\n",
    "- **보험료** : 보험 계약자가 보험회사에 납부하는 급액\n",
    "\n",
    "- **보험금** : 보험사고 발생 시 보험 회사가 보험 수익자에게 지급하는 것\n",
    "\n",
    "---\n",
    "\n",
    "- **담보** : 보험의 목적이 되는 대상으로, 자동차보험의 경우 **자차**(본인 자동차), **자손**(본인 신체), **대물**(상대차량), **대인**(상대방 신체) 등으로 구분된다.\n",
    "\n",
    "- **빈도** : 사고의 발생률, 보험을 가입한 전체 계약 중에서 사고가 발생한 계약의 비율 (사고 건수/ 계약 건수)\n",
    "\n",
    "- **심도** : 사고 건당 손해액, 한 사고당 발생한 손해액의 평균 금액 (총 사고 금액/ 사고 건수)\n",
    "\n",
    "- **순보험료** : 보험료 중에서 순수하게 손해 금액으로 이루어진 부분 (총 사고금액/ 계약건 = 빈도 * 심도)\n",
    "\n",
    "---\n",
    "\n",
    "- **LCM 계수** : 순보험료를 보험료로 전환하기 위해 사용되는 계수<br> = 1/예정위험율<br> = 1/(1 - 예정사업비율 - 예정이익율)\n",
    "\n",
    "- **보험료** : 보험료 = 순보험료 * LCM 계수<br> = 위험율 (손해액, 사고금액) + 사업비율 (수수료, 인건비 등 경비) + 이익율 (보험회사의 이익분)\n",
    "\n",
    "\n",
    "**LCM 계수를 정하기 위해 미래 사고에 대한 예측이 필요하다.**"
   ]
  },
  {
   "cell_type": "markdown",
   "metadata": {},
   "source": [
    "## 1.2 예시\n",
    "\n",
    "#### 순보험료는 빈도와 심도의 곱으로 산출된다.\n",
    "\n",
    "만약 10,000명이 참가하는 행사에서 100명의 부상자가 나왔고, 총 치료비가 5,000,000원이 나왔다면..\n",
    "\n",
    "- 빈도 = 0.01 = 100명/10,000명\n",
    "\n",
    "- 심도 = 50,000 = 5,000,000원/100명\n",
    "\n",
    "- 순보험료 = 500 = 50,000원 * 0.01\n",
    "\n",
    "참가자 10,000명에게서 500원씩 보험료를 받으면 총 치료비 5,000,000원을 부담할 수 있다."
   ]
  },
  {
   "cell_type": "markdown",
   "metadata": {},
   "source": [
    "## 1.3 빈도와 심도의 계산\n",
    "\n",
    "사용 데이터는 보험 계약 데이터이다.\n",
    "\n",
    "총 계약수 : 2794건\n",
    "\n",
    "|컬럼명_영문|컬럼명_한글|설명|\n",
    "|---|---|:---:|\n",
    "|car_knd|차종|소형(1A,1E), 준중형(1F,1G,1H),중형(1L,1M,1N), <br>대형(1P,29), SUB/VAN(86,8B,8A)|\n",
    "|GAI_COD|가입코드(가입년수)|1~8|\n",
    "|PIB_AGE|피보험자 나이|22~91|\n",
    "|PIB_SEX|피보험자 성별|남자:2259 / 여자:535|\n",
    "|in1_los|대인 손해액|-|\n",
    "|mul_los|대물 손해액|-|\n",
    "|jas_los|자손 손해액|-|\n",
    "|cha_los|자차 손해액|-|"
   ]
  },
  {
   "cell_type": "code",
   "execution_count": 37,
   "metadata": {},
   "outputs": [],
   "source": [
    "import pandas as pd\n",
    "import matplotlib.pyplot as plt\n",
    "import matplotlib as mpl\n",
    "plt.rc('font', family='NanumGothicCoding')\n",
    "mpl.rcParams['axes.unicode_minus'] = False"
   ]
  },
  {
   "cell_type": "code",
   "execution_count": null,
   "metadata": {},
   "outputs": [],
   "source": [
    "\n",
    "df = pd.read_csv(\"data/프로젝트자료.csv\")\n",
    "df.head()"
   ]
  },
  {
   "cell_type": "markdown",
   "metadata": {},
   "source": [
    "### 1.3.1 대인 빈도/심도 계산\n",
    "\n",
    "#### 대인 빈도"
   ]
  },
  {
   "cell_type": "code",
   "execution_count": 2,
   "metadata": {},
   "outputs": [
    {
     "name": "stdout",
     "output_type": "stream",
     "text": [
      "대인사고건수\t: 61\n",
      "대인 빈도\t\t: 0.021832\n"
     ]
    }
   ],
   "source": [
    "# 대인 사고건수\n",
    "in1_cnt = len(df[df['in1_los']!=0]['in1_los'])\n",
    "print(f\"대인사고건수\\t: {in1_cnt}\")\n",
    "\n",
    "# 대인 사고건수 / 총 계약수 = 대인 빈도\n",
    "in1_bin = in1_cnt/len(df)\n",
    "print(f\"대인 빈도\\t\\t: {round(in1_bin, 6)}\")"
   ]
  },
  {
   "cell_type": "markdown",
   "metadata": {},
   "source": [
    "#### 대인 심도"
   ]
  },
  {
   "cell_type": "code",
   "execution_count": 3,
   "metadata": {},
   "outputs": [
    {
     "name": "stdout",
     "output_type": "stream",
     "text": [
      "총 대인 손해액\t: 279110140\n",
      "대인 심도\t\t: 4575576.065574\n"
     ]
    }
   ],
   "source": [
    "# 총 대인 손해액\n",
    "in1_sum = df['in1_los'].sum()\n",
    "print(f\"총 대인 손해액\\t: {in1_sum}\")\n",
    "\n",
    "# 총 대인 손해액/대인 사고건수 = 대인 심도\n",
    "in1_sim = in1_sum/in1_cnt\n",
    "print(f\"대인 심도\\t\\t: {round(in1_sim,6)}\")"
   ]
  },
  {
   "cell_type": "markdown",
   "metadata": {},
   "source": [
    "### 1.3.2 대물 빈도/심도 계산\n",
    "\n",
    "#### 대물 빈도"
   ]
  },
  {
   "cell_type": "code",
   "execution_count": 4,
   "metadata": {},
   "outputs": [
    {
     "name": "stdout",
     "output_type": "stream",
     "text": [
      "대물사고건수\t: 175\n",
      "대물 빈도\t\t: 0.062634\n"
     ]
    }
   ],
   "source": [
    "# 대물 사고건수\n",
    "mul_cnt = len(df[df['mul_los']!=0]['mul_los'])\n",
    "print(f\"대물사고건수\\t: {mul_cnt}\")\n",
    "\n",
    "# 대물 사고건수 / 총 계약수 = 대물 빈도\n",
    "mul_bin = mul_cnt/len(df)\n",
    "print(f\"대물 빈도\\t\\t: {round(mul_bin, 6)}\")"
   ]
  },
  {
   "cell_type": "markdown",
   "metadata": {},
   "source": [
    "#### 대물 심도"
   ]
  },
  {
   "cell_type": "code",
   "execution_count": 5,
   "metadata": {},
   "outputs": [
    {
     "name": "stdout",
     "output_type": "stream",
     "text": [
      "총 대물 손해액\t: 224590640\n",
      "대물 심도\t\t: 1283375.085714\n"
     ]
    }
   ],
   "source": [
    "# 총 대물 손해액\n",
    "mul_sum = df['mul_los'].sum()\n",
    "print(f\"총 대물 손해액\\t: {mul_sum}\")\n",
    "\n",
    "# 총 대물 손해액/대물 사고건수 = 대물 심도\n",
    "mul_sim = mul_sum/mul_cnt\n",
    "print(f\"대물 심도\\t\\t: {round(mul_sim,6)}\")"
   ]
  },
  {
   "cell_type": "markdown",
   "metadata": {},
   "source": [
    "### 1.3.3 자손 빈도/심도 계산\n",
    "\n",
    "#### 자손 빈도"
   ]
  },
  {
   "cell_type": "code",
   "execution_count": 6,
   "metadata": {},
   "outputs": [
    {
     "name": "stdout",
     "output_type": "stream",
     "text": [
      "자손사고건수\t: 15\n",
      "자손 빈도\t\t: 0.005369\n"
     ]
    }
   ],
   "source": [
    "# 자손 사고건수\n",
    "jas_cnt = len(df[df['jas_los']!=0]['jas_los'])\n",
    "print(f\"자손사고건수\\t: {jas_cnt}\")\n",
    "\n",
    "# 자손 사고건수 / 총 계약수 = 자손 빈도\n",
    "jas_bin = jas_cnt/len(df)\n",
    "print(f\"자손 빈도\\t\\t: {round(jas_bin, 6)}\")"
   ]
  },
  {
   "cell_type": "markdown",
   "metadata": {},
   "source": [
    "#### 자손 심도"
   ]
  },
  {
   "cell_type": "code",
   "execution_count": 7,
   "metadata": {},
   "outputs": [
    {
     "name": "stdout",
     "output_type": "stream",
     "text": [
      "총 자손 손해액\t: 15501900\n",
      "자손 심도\t\t: 1033460.0\n"
     ]
    }
   ],
   "source": [
    "# 총 자손 손해액\n",
    "jas_sum = df['jas_los'].sum()\n",
    "print(f\"총 자손 손해액\\t: {jas_sum}\")\n",
    "\n",
    "# 총 자손 손해액/자손 사고건수 = 자손 심도\n",
    "jas_sim = jas_sum/jas_cnt\n",
    "print(f\"자손 심도\\t\\t: {round(jas_sim,6)}\")"
   ]
  },
  {
   "cell_type": "markdown",
   "metadata": {},
   "source": [
    "### 1.3.4 자차 빈도/심도 계산\n",
    "\n",
    "#### 자차 빈도"
   ]
  },
  {
   "cell_type": "code",
   "execution_count": 8,
   "metadata": {},
   "outputs": [
    {
     "name": "stdout",
     "output_type": "stream",
     "text": [
      "자차사고건수\t: 794\n",
      "자차 빈도\t\t: 0.28418\n"
     ]
    }
   ],
   "source": [
    "# 자차 사고건수\n",
    "cha_cnt = len(df[df['cha_los']!=0]['cha_los'])\n",
    "print(f\"자차사고건수\\t: {cha_cnt}\")\n",
    "\n",
    "# 자차 사고건수 / 총 계약수 = 자차 빈도\n",
    "cha_bin = cha_cnt/len(df)\n",
    "print(f\"자차 빈도\\t\\t: {round(cha_bin, 6)}\")"
   ]
  },
  {
   "cell_type": "markdown",
   "metadata": {},
   "source": [
    "#### 자차 심도"
   ]
  },
  {
   "cell_type": "code",
   "execution_count": 9,
   "metadata": {},
   "outputs": [
    {
     "name": "stdout",
     "output_type": "stream",
     "text": [
      "총 자차 손해액\t: 722254450\n",
      "자차 심도\t\t: 909640.365239\n"
     ]
    }
   ],
   "source": [
    "# 총 자차 손해액\n",
    "cha_sum = df['cha_los'].sum()\n",
    "print(f\"총 자차 손해액\\t: {cha_sum}\")\n",
    "\n",
    "# 총 자차 손해액/자차 사고건수 = 자차 심도\n",
    "cha_sim = cha_sum/cha_cnt\n",
    "print(f\"자차 심도\\t\\t: {round(cha_sim,6)}\")"
   ]
  },
  {
   "cell_type": "markdown",
   "metadata": {},
   "source": [
    "#### 1.3.5 빈도/ 심도 종합\n",
    "\n",
    "빈도와 심도를 통해 각 담보별 순 보험료를 구해보았다."
   ]
  },
  {
   "cell_type": "code",
   "execution_count": 10,
   "metadata": {},
   "outputs": [
    {
     "data": {
      "text/html": [
       "<div>\n",
       "<style scoped>\n",
       "    .dataframe tbody tr th:only-of-type {\n",
       "        vertical-align: middle;\n",
       "    }\n",
       "\n",
       "    .dataframe tbody tr th {\n",
       "        vertical-align: top;\n",
       "    }\n",
       "\n",
       "    .dataframe thead th {\n",
       "        text-align: right;\n",
       "    }\n",
       "</style>\n",
       "<table border=\"1\" class=\"dataframe\">\n",
       "  <thead>\n",
       "    <tr style=\"text-align: right;\">\n",
       "      <th></th>\n",
       "      <th>빈도</th>\n",
       "      <th>심도</th>\n",
       "      <th>순보험료</th>\n",
       "    </tr>\n",
       "  </thead>\n",
       "  <tbody>\n",
       "    <tr>\n",
       "      <th>대인</th>\n",
       "      <td>0.02183</td>\n",
       "      <td>4575576.06557</td>\n",
       "      <td>99896.25626</td>\n",
       "    </tr>\n",
       "    <tr>\n",
       "      <th>대물</th>\n",
       "      <td>0.06263</td>\n",
       "      <td>1283375.08571</td>\n",
       "      <td>80383.19256</td>\n",
       "    </tr>\n",
       "    <tr>\n",
       "      <th>자손</th>\n",
       "      <td>0.00537</td>\n",
       "      <td>1033460.00000</td>\n",
       "      <td>5548.28203</td>\n",
       "    </tr>\n",
       "    <tr>\n",
       "      <th>자차</th>\n",
       "      <td>0.28418</td>\n",
       "      <td>909640.36524</td>\n",
       "      <td>258501.95061</td>\n",
       "    </tr>\n",
       "  </tbody>\n",
       "</table>\n",
       "</div>"
      ],
      "text/plain": [
       "        빈도            심도         순보험료\n",
       "대인 0.02183 4575576.06557  99896.25626\n",
       "대물 0.06263 1283375.08571  80383.19256\n",
       "자손 0.00537 1033460.00000   5548.28203\n",
       "자차 0.28418  909640.36524 258501.95061"
      ]
     },
     "execution_count": 10,
     "metadata": {},
     "output_type": "execute_result"
    }
   ],
   "source": [
    "pd.set_option('display.float_format', lambda x: '%.5f' % x)\n",
    "sunbo = pd.DataFrame([{\"빈도\":in1_bin,\"심도\":in1_sim},\\\n",
    "                        {\"빈도\":mul_bin,\"심도\":mul_sim},\\\n",
    "                            {\"빈도\":jas_bin,\"심도\":jas_sim},\\\n",
    "                                {\"빈도\":cha_bin,\"심도\":cha_sim},],\\\n",
    "                       index=[\"대인\",\"대물\",\"자손\",\"자차\"])\n",
    "\n",
    "sunbo[\"순보험료\"] = [i*j for i,j in sunbo.values]\n",
    "sunbo"
   ]
  },
  {
   "cell_type": "code",
   "execution_count": 11,
   "metadata": {},
   "outputs": [
    {
     "data": {
      "text/html": [
       "<div>\n",
       "<style scoped>\n",
       "    .dataframe tbody tr th:only-of-type {\n",
       "        vertical-align: middle;\n",
       "    }\n",
       "\n",
       "    .dataframe tbody tr th {\n",
       "        vertical-align: top;\n",
       "    }\n",
       "\n",
       "    .dataframe thead th {\n",
       "        text-align: right;\n",
       "    }\n",
       "</style>\n",
       "<table border=\"1\" class=\"dataframe\">\n",
       "  <thead>\n",
       "    <tr style=\"text-align: right;\">\n",
       "      <th></th>\n",
       "      <th>car_knd</th>\n",
       "      <th>GAI_COD</th>\n",
       "      <th>PIB_AGE</th>\n",
       "      <th>PIB_SEX</th>\n",
       "      <th>in1_los</th>\n",
       "      <th>mul_los</th>\n",
       "      <th>jas_los</th>\n",
       "      <th>cha_los</th>\n",
       "    </tr>\n",
       "  </thead>\n",
       "  <tbody>\n",
       "    <tr>\n",
       "      <th>0</th>\n",
       "      <td>1A</td>\n",
       "      <td>8</td>\n",
       "      <td>43</td>\n",
       "      <td>1</td>\n",
       "      <td>1997490</td>\n",
       "      <td>427160</td>\n",
       "      <td>0</td>\n",
       "      <td>144490</td>\n",
       "    </tr>\n",
       "    <tr>\n",
       "      <th>1</th>\n",
       "      <td>1A</td>\n",
       "      <td>8</td>\n",
       "      <td>38</td>\n",
       "      <td>1</td>\n",
       "      <td>0</td>\n",
       "      <td>0</td>\n",
       "      <td>0</td>\n",
       "      <td>371430</td>\n",
       "    </tr>\n",
       "    <tr>\n",
       "      <th>2</th>\n",
       "      <td>1A</td>\n",
       "      <td>8</td>\n",
       "      <td>51</td>\n",
       "      <td>1</td>\n",
       "      <td>0</td>\n",
       "      <td>0</td>\n",
       "      <td>0</td>\n",
       "      <td>1183420</td>\n",
       "    </tr>\n",
       "    <tr>\n",
       "      <th>3</th>\n",
       "      <td>1A</td>\n",
       "      <td>8</td>\n",
       "      <td>34</td>\n",
       "      <td>1</td>\n",
       "      <td>0</td>\n",
       "      <td>0</td>\n",
       "      <td>0</td>\n",
       "      <td>1320000</td>\n",
       "    </tr>\n",
       "    <tr>\n",
       "      <th>4</th>\n",
       "      <td>1A</td>\n",
       "      <td>8</td>\n",
       "      <td>37</td>\n",
       "      <td>1</td>\n",
       "      <td>0</td>\n",
       "      <td>0</td>\n",
       "      <td>0</td>\n",
       "      <td>490090</td>\n",
       "    </tr>\n",
       "    <tr>\n",
       "      <th>...</th>\n",
       "      <td>...</td>\n",
       "      <td>...</td>\n",
       "      <td>...</td>\n",
       "      <td>...</td>\n",
       "      <td>...</td>\n",
       "      <td>...</td>\n",
       "      <td>...</td>\n",
       "      <td>...</td>\n",
       "    </tr>\n",
       "    <tr>\n",
       "      <th>2789</th>\n",
       "      <td>8B</td>\n",
       "      <td>8</td>\n",
       "      <td>46</td>\n",
       "      <td>1</td>\n",
       "      <td>0</td>\n",
       "      <td>0</td>\n",
       "      <td>0</td>\n",
       "      <td>0</td>\n",
       "    </tr>\n",
       "    <tr>\n",
       "      <th>2790</th>\n",
       "      <td>8B</td>\n",
       "      <td>8</td>\n",
       "      <td>47</td>\n",
       "      <td>1</td>\n",
       "      <td>0</td>\n",
       "      <td>0</td>\n",
       "      <td>0</td>\n",
       "      <td>0</td>\n",
       "    </tr>\n",
       "    <tr>\n",
       "      <th>2791</th>\n",
       "      <td>8B</td>\n",
       "      <td>8</td>\n",
       "      <td>60</td>\n",
       "      <td>2</td>\n",
       "      <td>0</td>\n",
       "      <td>0</td>\n",
       "      <td>0</td>\n",
       "      <td>0</td>\n",
       "    </tr>\n",
       "    <tr>\n",
       "      <th>2792</th>\n",
       "      <td>8B</td>\n",
       "      <td>8</td>\n",
       "      <td>33</td>\n",
       "      <td>1</td>\n",
       "      <td>0</td>\n",
       "      <td>0</td>\n",
       "      <td>0</td>\n",
       "      <td>0</td>\n",
       "    </tr>\n",
       "    <tr>\n",
       "      <th>2793</th>\n",
       "      <td>8B</td>\n",
       "      <td>8</td>\n",
       "      <td>38</td>\n",
       "      <td>1</td>\n",
       "      <td>0</td>\n",
       "      <td>0</td>\n",
       "      <td>0</td>\n",
       "      <td>0</td>\n",
       "    </tr>\n",
       "  </tbody>\n",
       "</table>\n",
       "<p>2794 rows × 8 columns</p>\n",
       "</div>"
      ],
      "text/plain": [
       "     car_knd  GAI_COD  PIB_AGE  PIB_SEX  in1_los  mul_los  jas_los  cha_los\n",
       "0         1A        8       43        1  1997490   427160        0   144490\n",
       "1         1A        8       38        1        0        0        0   371430\n",
       "2         1A        8       51        1        0        0        0  1183420\n",
       "3         1A        8       34        1        0        0        0  1320000\n",
       "4         1A        8       37        1        0        0        0   490090\n",
       "...      ...      ...      ...      ...      ...      ...      ...      ...\n",
       "2789      8B        8       46        1        0        0        0        0\n",
       "2790      8B        8       47        1        0        0        0        0\n",
       "2791      8B        8       60        2        0        0        0        0\n",
       "2792      8B        8       33        1        0        0        0        0\n",
       "2793      8B        8       38        1        0        0        0        0\n",
       "\n",
       "[2794 rows x 8 columns]"
      ]
     },
     "execution_count": 11,
     "metadata": {},
     "output_type": "execute_result"
    }
   ],
   "source": [
    "df"
   ]
  },
  {
   "cell_type": "markdown",
   "metadata": {},
   "source": [
    "## 1.4 그룹별 빈도와 심도\n",
    "\n",
    "그룹별로 빈도와 심도의 차이가 있을 수 있다."
   ]
  },
  {
   "cell_type": "markdown",
   "metadata": {},
   "source": [
    "### 1.4.1 차종"
   ]
  },
  {
   "cell_type": "code",
   "execution_count": 34,
   "metadata": {},
   "outputs": [],
   "source": [
    "\n",
    "car_knd_dict = {'1A': \"소형\",\n",
    " '1E': \"소형\",\n",
    " '1F': \"준중형\",\n",
    " '1G': \"준중형\",\n",
    " '1H': \"준중형\",\n",
    " '1L': \"중형\",\n",
    " '1M': \"중형\",\n",
    " '1N': \"중형\",\n",
    " '1P': \"대형\",\n",
    " '29': \"대형\",\n",
    " '86': \"SUB/VAN\",\n",
    " '8A': \"SUB/VAN\",\n",
    " '8B': \"SUB/VAN\"}\n",
    "\n",
    "df['차종'] = [car_knd_dict.get(i) for i in df['car_knd']]"
   ]
  },
  {
   "cell_type": "code",
   "execution_count": 46,
   "metadata": {},
   "outputs": [
    {
     "data": {
      "image/png": "[encoded data removed]",
      "text/plain": [
       "<Figure size 1000x800 with 1 Axes>"
      ]
     },
     "metadata": {},
     "output_type": "display_data"
    }
   ],
   "source": [
    "import matplotlib.pyplot as plt\n",
    "data = df['차종'].value_counts()\n",
    "fig, ax = plt.subplots(figsize=(10, 8))\n",
    "wedges, texts, autotexts = ax.pie(data.values, labels=data.index, autopct='%1.1f%%', \n",
    "                                  textprops=dict(color=\"w\"))\n",
    "\n",
    "ax.set_title(\"전체 차종의 구성비\")\n",
    "ax.legend(wedges, data.index,\n",
    "          title=\"차종\",\n",
    "          loc=\"center left\",\n",
    "          bbox_to_anchor=(1, 0, 0.5, 1))\n",
    "\n",
    "plt.setp(autotexts, size=22, weight=\"bold\")\n",
    "plt.show()"
   ]
  },
  {
   "cell_type": "code",
   "execution_count": 48,
   "metadata": {},
   "outputs": [
    {
     "data": {
      "text/html": [
       "<div>\n",
       "<style scoped>\n",
       "    .dataframe tbody tr th:only-of-type {\n",
       "        vertical-align: middle;\n",
       "    }\n",
       "\n",
       "    .dataframe tbody tr th {\n",
       "        vertical-align: top;\n",
       "    }\n",
       "\n",
       "    .dataframe thead th {\n",
       "        text-align: right;\n",
       "    }\n",
       "</style>\n",
       "<table border=\"1\" class=\"dataframe\">\n",
       "  <thead>\n",
       "    <tr style=\"text-align: right;\">\n",
       "      <th></th>\n",
       "      <th>car_knd</th>\n",
       "      <th>GAI_COD</th>\n",
       "      <th>PIB_AGE</th>\n",
       "      <th>PIB_SEX</th>\n",
       "      <th>in1_los</th>\n",
       "      <th>mul_los</th>\n",
       "      <th>jas_los</th>\n",
       "      <th>cha_los</th>\n",
       "      <th>차종</th>\n",
       "    </tr>\n",
       "  </thead>\n",
       "  <tbody>\n",
       "    <tr>\n",
       "      <th>0</th>\n",
       "      <td>1A</td>\n",
       "      <td>8</td>\n",
       "      <td>43</td>\n",
       "      <td>1</td>\n",
       "      <td>1997490</td>\n",
       "      <td>427160</td>\n",
       "      <td>0</td>\n",
       "      <td>144490</td>\n",
       "      <td>소형</td>\n",
       "    </tr>\n",
       "    <tr>\n",
       "      <th>1</th>\n",
       "      <td>1A</td>\n",
       "      <td>8</td>\n",
       "      <td>38</td>\n",
       "      <td>1</td>\n",
       "      <td>0</td>\n",
       "      <td>0</td>\n",
       "      <td>0</td>\n",
       "      <td>371430</td>\n",
       "      <td>소형</td>\n",
       "    </tr>\n",
       "    <tr>\n",
       "      <th>2</th>\n",
       "      <td>1A</td>\n",
       "      <td>8</td>\n",
       "      <td>51</td>\n",
       "      <td>1</td>\n",
       "      <td>0</td>\n",
       "      <td>0</td>\n",
       "      <td>0</td>\n",
       "      <td>1183420</td>\n",
       "      <td>소형</td>\n",
       "    </tr>\n",
       "    <tr>\n",
       "      <th>3</th>\n",
       "      <td>1A</td>\n",
       "      <td>8</td>\n",
       "      <td>34</td>\n",
       "      <td>1</td>\n",
       "      <td>0</td>\n",
       "      <td>0</td>\n",
       "      <td>0</td>\n",
       "      <td>1320000</td>\n",
       "      <td>소형</td>\n",
       "    </tr>\n",
       "    <tr>\n",
       "      <th>4</th>\n",
       "      <td>1A</td>\n",
       "      <td>8</td>\n",
       "      <td>37</td>\n",
       "      <td>1</td>\n",
       "      <td>0</td>\n",
       "      <td>0</td>\n",
       "      <td>0</td>\n",
       "      <td>490090</td>\n",
       "      <td>소형</td>\n",
       "    </tr>\n",
       "    <tr>\n",
       "      <th>...</th>\n",
       "      <td>...</td>\n",
       "      <td>...</td>\n",
       "      <td>...</td>\n",
       "      <td>...</td>\n",
       "      <td>...</td>\n",
       "      <td>...</td>\n",
       "      <td>...</td>\n",
       "      <td>...</td>\n",
       "      <td>...</td>\n",
       "    </tr>\n",
       "    <tr>\n",
       "      <th>2789</th>\n",
       "      <td>8B</td>\n",
       "      <td>8</td>\n",
       "      <td>46</td>\n",
       "      <td>1</td>\n",
       "      <td>0</td>\n",
       "      <td>0</td>\n",
       "      <td>0</td>\n",
       "      <td>0</td>\n",
       "      <td>SUB/VAN</td>\n",
       "    </tr>\n",
       "    <tr>\n",
       "      <th>2790</th>\n",
       "      <td>8B</td>\n",
       "      <td>8</td>\n",
       "      <td>47</td>\n",
       "      <td>1</td>\n",
       "      <td>0</td>\n",
       "      <td>0</td>\n",
       "      <td>0</td>\n",
       "      <td>0</td>\n",
       "      <td>SUB/VAN</td>\n",
       "    </tr>\n",
       "    <tr>\n",
       "      <th>2791</th>\n",
       "      <td>8B</td>\n",
       "      <td>8</td>\n",
       "      <td>60</td>\n",
       "      <td>2</td>\n",
       "      <td>0</td>\n",
       "      <td>0</td>\n",
       "      <td>0</td>\n",
       "      <td>0</td>\n",
       "      <td>SUB/VAN</td>\n",
       "    </tr>\n",
       "    <tr>\n",
       "      <th>2792</th>\n",
       "      <td>8B</td>\n",
       "      <td>8</td>\n",
       "      <td>33</td>\n",
       "      <td>1</td>\n",
       "      <td>0</td>\n",
       "      <td>0</td>\n",
       "      <td>0</td>\n",
       "      <td>0</td>\n",
       "      <td>SUB/VAN</td>\n",
       "    </tr>\n",
       "    <tr>\n",
       "      <th>2793</th>\n",
       "      <td>8B</td>\n",
       "      <td>8</td>\n",
       "      <td>38</td>\n",
       "      <td>1</td>\n",
       "      <td>0</td>\n",
       "      <td>0</td>\n",
       "      <td>0</td>\n",
       "      <td>0</td>\n",
       "      <td>SUB/VAN</td>\n",
       "    </tr>\n",
       "  </tbody>\n",
       "</table>\n",
       "<p>2794 rows × 9 columns</p>\n",
       "</div>"
      ],
      "text/plain": [
       "     car_knd  GAI_COD  PIB_AGE  PIB_SEX  in1_los  mul_los  jas_los  cha_los  \\\n",
       "0         1A        8       43        1  1997490   427160        0   144490   \n",
       "1         1A        8       38        1        0        0        0   371430   \n",
       "2         1A        8       51        1        0        0        0  1183420   \n",
       "3         1A        8       34        1        0        0        0  1320000   \n",
       "4         1A        8       37        1        0        0        0   490090   \n",
       "...      ...      ...      ...      ...      ...      ...      ...      ...   \n",
       "2789      8B        8       46        1        0        0        0        0   \n",
       "2790      8B        8       47        1        0        0        0        0   \n",
       "2791      8B        8       60        2        0        0        0        0   \n",
       "2792      8B        8       33        1        0        0        0        0   \n",
       "2793      8B        8       38        1        0        0        0        0   \n",
       "\n",
       "           차종  \n",
       "0          소형  \n",
       "1          소형  \n",
       "2          소형  \n",
       "3          소형  \n",
       "4          소형  \n",
       "...       ...  \n",
       "2789  SUB/VAN  \n",
       "2790  SUB/VAN  \n",
       "2791  SUB/VAN  \n",
       "2792  SUB/VAN  \n",
       "2793  SUB/VAN  \n",
       "\n",
       "[2794 rows x 9 columns]"
      ]
     },
     "execution_count": 48,
     "metadata": {},
     "output_type": "execute_result"
    }
   ],
   "source": [
    "df"
   ]
  }
 ],
 "metadata": {
  "kernelspec": {
   "display_name": "Python 3",
   "language": "python",
   "name": "python3"
  },
  "language_info": {
   "codemirror_mode": {
    "name": "ipython",
    "version": 3
   },
   "file_extension": ".py",
   "mimetype": "text/x-python",
   "name": "python",
   "nbconvert_exporter": "python",
   "pygments_lexer": "ipython3",
   "version": "3.10.12"
  }
 },
 "nbformat": 4,
 "nbformat_minor": 2
}
