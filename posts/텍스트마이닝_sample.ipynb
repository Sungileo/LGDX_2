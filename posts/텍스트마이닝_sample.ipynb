{
 "cells": [
  {
   "cell_type": "markdown",
   "metadata": {},
   "source": [
    "---\n",
    "title: \"텍스트마이닝\"\n",
    "author: \"박성일\"\n",
    "date: \"2024-07-30\"\n",
    "description: \"텍스트마이닝을 해보아요\"\n",
    "image: \"data/text_mining_thumbnail.png\"\n",
    "format: \n",
    "  html:\n",
    "    toc: true\n",
    "\n",
    "---"
   ]
  },
  {
   "cell_type": "markdown",
   "metadata": {},
   "source": [
    "# 텍스트마이닝\n",
    "\n",
    "텍스트 마이닝이란 대량의 텍스트 데이터에서 유용한 정보와 패턴을 추출하고 분석하는 과정이다.\n",
    "\n",
    "전체 데이터는 `문장`컬럼이 어떤 대상을 혐오하는지에 대한 데이터이고,<br> 분류 분석을 통해 문장의 어떤 특징이 분류 결과에 가중치를 주었는지를 보고자 한다.\n",
    "\n",
    "## 1. 텍스트 데이터의 전처리\n",
    "### 1-1. 토큰화(Tokenize)\n",
    "\n",
    "**토큰화**란 텍스트 데이터 처리에서 중요한 첫 단계로 텍스트를 분석하기 위해 작은 단위로 분할하는 과정을 의미한다.\n",
    "\n",
    "토큰화의 목적은 텍스트를 단어, 문장, 구절 등 의미 있는 작은 단위로 나누어 기계가 이해할 수 있게 하는 것이다.\n"
   ]
  },
  {
   "cell_type": "code",
   "execution_count": 106,
   "metadata": {},
   "outputs": [],
   "source": [
    "import pandas as pd\n",
    "import warnings\n",
    "warnings.filterwarnings('ignore')\n",
    "\n",
    "train_data = 'data/unsmile_train_v1.0.tsv'\n",
    "train = pd.read_csv(train_data, delimiter = '\\t')\n",
    "\n",
    "test_data = 'data/unsmile_valid_v1.0.tsv'\n",
    "test = pd.read_csv(test_data, delimiter = '\\t')"
   ]
  },
  {
   "cell_type": "markdown",
   "metadata": {},
   "source": [
    "사용할 데이터는 `clean`이 1인 (클린한 문장이라고 라벨링된) 데이터다."
   ]
  },
  {
   "cell_type": "code",
   "execution_count": 107,
   "metadata": {},
   "outputs": [
    {
     "data": {
      "text/html": [
       "<div>\n",
       "<style scoped>\n",
       "    .dataframe tbody tr th:only-of-type {\n",
       "        vertical-align: middle;\n",
       "    }\n",
       "\n",
       "    .dataframe tbody tr th {\n",
       "        vertical-align: top;\n",
       "    }\n",
       "\n",
       "    .dataframe thead th {\n",
       "        text-align: right;\n",
       "    }\n",
       "</style>\n",
       "<table border=\"1\" class=\"dataframe\">\n",
       "  <thead>\n",
       "    <tr style=\"text-align: right;\">\n",
       "      <th></th>\n",
       "      <th>문장</th>\n",
       "      <th>여성/가족</th>\n",
       "      <th>남성</th>\n",
       "      <th>성소수자</th>\n",
       "      <th>인종/국적</th>\n",
       "      <th>연령</th>\n",
       "      <th>지역</th>\n",
       "      <th>종교</th>\n",
       "      <th>기타 혐오</th>\n",
       "      <th>악플/욕설</th>\n",
       "      <th>clean</th>\n",
       "      <th>개인지칭</th>\n",
       "    </tr>\n",
       "  </thead>\n",
       "  <tbody>\n",
       "    <tr>\n",
       "      <th>0</th>\n",
       "      <td>일안하는 시간은 쉬고싶어서 그런게 아닐까</td>\n",
       "      <td>0</td>\n",
       "      <td>0</td>\n",
       "      <td>0</td>\n",
       "      <td>0</td>\n",
       "      <td>0</td>\n",
       "      <td>0</td>\n",
       "      <td>0</td>\n",
       "      <td>0</td>\n",
       "      <td>0</td>\n",
       "      <td>1</td>\n",
       "      <td>0</td>\n",
       "    </tr>\n",
       "    <tr>\n",
       "      <th>1</th>\n",
       "      <td>아동성범죄와 페도버는 기록바 끊어져 영원히 고통 받는다. 무슬림 50퍼 근친이다. ...</td>\n",
       "      <td>0</td>\n",
       "      <td>0</td>\n",
       "      <td>0</td>\n",
       "      <td>0</td>\n",
       "      <td>0</td>\n",
       "      <td>0</td>\n",
       "      <td>1</td>\n",
       "      <td>0</td>\n",
       "      <td>0</td>\n",
       "      <td>0</td>\n",
       "      <td>0</td>\n",
       "    </tr>\n",
       "    <tr>\n",
       "      <th>2</th>\n",
       "      <td>루나 솔로앨범 나왔을 때부터 머모 기운 있었음 ㅇㅇ Keep o  doin 진짜 띵...</td>\n",
       "      <td>0</td>\n",
       "      <td>0</td>\n",
       "      <td>0</td>\n",
       "      <td>0</td>\n",
       "      <td>0</td>\n",
       "      <td>0</td>\n",
       "      <td>0</td>\n",
       "      <td>0</td>\n",
       "      <td>0</td>\n",
       "      <td>1</td>\n",
       "      <td>0</td>\n",
       "    </tr>\n",
       "    <tr>\n",
       "      <th>3</th>\n",
       "      <td>홍팍에도 어버이연합인가 보내요 뭐 이런뎃글 있는데 이거 어버이연합측에 신고하면 그쪽...</td>\n",
       "      <td>0</td>\n",
       "      <td>0</td>\n",
       "      <td>0</td>\n",
       "      <td>0</td>\n",
       "      <td>0</td>\n",
       "      <td>0</td>\n",
       "      <td>0</td>\n",
       "      <td>0</td>\n",
       "      <td>0</td>\n",
       "      <td>1</td>\n",
       "      <td>0</td>\n",
       "    </tr>\n",
       "    <tr>\n",
       "      <th>4</th>\n",
       "      <td>아놔 왜 여기 댓들은 다 여자들이 김치녀라고 먼저 불렸다! 여자들은 더 심하게 그런...</td>\n",
       "      <td>1</td>\n",
       "      <td>0</td>\n",
       "      <td>0</td>\n",
       "      <td>0</td>\n",
       "      <td>0</td>\n",
       "      <td>0</td>\n",
       "      <td>0</td>\n",
       "      <td>0</td>\n",
       "      <td>0</td>\n",
       "      <td>0</td>\n",
       "      <td>0</td>\n",
       "    </tr>\n",
       "  </tbody>\n",
       "</table>\n",
       "</div>"
      ],
      "text/plain": [
       "                                                  문장  여성/가족  남성  성소수자  인종/국적  \\\n",
       "0                             일안하는 시간은 쉬고싶어서 그런게 아닐까      0   0     0      0   \n",
       "1  아동성범죄와 페도버는 기록바 끊어져 영원히 고통 받는다. 무슬림 50퍼 근친이다. ...      0   0     0      0   \n",
       "2  루나 솔로앨범 나왔을 때부터 머모 기운 있었음 ㅇㅇ Keep o  doin 진짜 띵...      0   0     0      0   \n",
       "3  홍팍에도 어버이연합인가 보내요 뭐 이런뎃글 있는데 이거 어버이연합측에 신고하면 그쪽...      0   0     0      0   \n",
       "4  아놔 왜 여기 댓들은 다 여자들이 김치녀라고 먼저 불렸다! 여자들은 더 심하게 그런...      1   0     0      0   \n",
       "\n",
       "   연령  지역  종교  기타 혐오  악플/욕설  clean  개인지칭  \n",
       "0   0   0   0      0      0      1     0  \n",
       "1   0   0   1      0      0      0     0  \n",
       "2   0   0   0      0      0      1     0  \n",
       "3   0   0   0      0      0      1     0  \n",
       "4   0   0   0      0      0      0     0  "
      ]
     },
     "execution_count": 107,
     "metadata": {},
     "output_type": "execute_result"
    }
   ],
   "source": [
    "train.head()"
   ]
  },
  {
   "cell_type": "markdown",
   "metadata": {},
   "source": [
    "`ntlk`는 자연어 처리에 사용되는 패키지이고, `word_tokenize`는 텍스트를 단어 단위로 분할하는데 사용된다.\n",
    "\n",
    "`punkt`는 `ntlk`에서 제공되는 패키지로, 텍스트를 토큰화하는데 필요한 알고리즘과 데이터가 있다."
   ]
  },
  {
   "cell_type": "code",
   "execution_count": 109,
   "metadata": {},
   "outputs": [
    {
     "name": "stderr",
     "output_type": "stream",
     "text": [
      "[nltk_data] Downloading package punkt to /home/sungil/nltk_data...\n",
      "[nltk_data]   Package punkt is already up-to-date!\n"
     ]
    },
    {
     "data": {
      "text/plain": [
       "True"
      ]
     },
     "execution_count": 109,
     "metadata": {},
     "output_type": "execute_result"
    }
   ],
   "source": [
    "from nltk import word_tokenize\n",
    "import nltk\n",
    "nltk.download('punkt')"
   ]
  },
  {
   "cell_type": "markdown",
   "metadata": {},
   "source": [
    "*\"넌 바라는게 너무 많아, 우리 헤어져\"* 를 `word_tokenize()`로 토큰화하면 다음과 같다."
   ]
  },
  {
   "cell_type": "code",
   "execution_count": 110,
   "metadata": {},
   "outputs": [
    {
     "data": {
      "text/plain": [
       "['넌', '바라는게', '너무', '많아', ',', '우리', '헤어져']"
      ]
     },
     "execution_count": 110,
     "metadata": {},
     "output_type": "execute_result"
    }
   ],
   "source": [
    "words = word_tokenize(\"넌 바라는게 너무 많아, 우리 헤어져\")\n",
    "words"
   ]
  },
  {
   "cell_type": "markdown",
   "metadata": {},
   "source": [
    "텍스트 데이터를 공백 기준으로 나누었다(간단한 토큰화)."
   ]
  },
  {
   "cell_type": "code",
   "execution_count": 111,
   "metadata": {},
   "outputs": [],
   "source": [
    "# 리스트 컴프리헨션으로 단축한 코드이다, 아래와 동일하다.\n",
    "clean_token = [t for doc in text_train for t in doc.split(\" \")]\n",
    "\n",
    "# clean_token = []\n",
    "# for i in text_train:              # text_train에서 한문장씩 뽑아서\n",
    "#     for j in i.split(\" \"):        # 공백 기준으로 나누기\n",
    "#         clean_token.append(j)     # 나눈 값을 clean_token리스트에 넣기"
   ]
  },
  {
   "cell_type": "code",
   "execution_count": 112,
   "metadata": {},
   "outputs": [
    {
     "data": {
      "text/plain": [
       "['일안하는', '시간은', '쉬고싶어서', '그런게', '아닐까']"
      ]
     },
     "execution_count": 112,
     "metadata": {},
     "output_type": "execute_result"
    }
   ],
   "source": [
    "# 상위 5개 값만 추출해보기\n",
    "clean_token[:5] "
   ]
  },
  {
   "cell_type": "markdown",
   "metadata": {},
   "source": [
    "토큰화된 텍스트 데이터에서 어떤 단어가 많이 나왔는지, 빈도를 세어 보고, 워드클라우드를 그려보았다.\n",
    "\n",
    "`Counter()` : 딕셔너리 형식으로 리스트 내의 값의 빈도 출력"
   ]
  },
  {
   "cell_type": "code",
   "execution_count": 113,
   "metadata": {},
   "outputs": [
    {
     "data": {
      "text/plain": [
       "[('왜', 94),\n",
       " ('다', 87),\n",
       " ('ㅋㅋ', 86),\n",
       " ('진짜', 75),\n",
       " ('근데', 74),\n",
       " ('ㅋㅋㅋ', 67),\n",
       " ('더', 64),\n",
       " ('그냥', 60),\n",
       " ('난', 55),\n",
       " ('좀', 54),\n",
       " ('저', 50),\n",
       " ('그', 48),\n",
       " ('이', 44),\n",
       " ('존나', 44),\n",
       " ('잘', 44)]"
      ]
     },
     "execution_count": 113,
     "metadata": {},
     "output_type": "execute_result"
    }
   ],
   "source": [
    "from collections import Counter\n",
    "count = Counter(clean_token)\n",
    "# 상위 15개 값만 추출\n",
    "count.most_common(15)"
   ]
  },
  {
   "cell_type": "code",
   "execution_count": 114,
   "metadata": {},
   "outputs": [
    {
     "data": {
      "image/png": "[encoded data removed]",
      "text/plain": [
       "<Figure size 640x480 with 1 Axes>"
      ]
     },
     "metadata": {},
     "output_type": "display_data"
    }
   ],
   "source": [
    "from wordcloud import WordCloud\n",
    "import matplotlib.pyplot as plt\n",
    "import numpy as np\n",
    "\n",
    "wc = WordCloud(background_color = 'white', font_path='/usr/share/fonts/truetype/nanum/NanumGothic.ttf')\n",
    "wc.generate_from_frequencies(count)\n",
    "\n",
    "plt.imshow(wc)\n",
    "plt.axis('off')\n",
    "plt.show()"
   ]
  },
  {
   "cell_type": "markdown",
   "metadata": {},
   "source": [
    "**빈도를 세본 결과, 1글자(왜,다,더,좀..)와 \"ㅋㅋㅋ\"등 큰 의미가 없는 단어가 있었다.**"
   ]
  },
  {
   "cell_type": "markdown",
   "metadata": {},
   "source": [
    "### 1-2. 텍스트 전처리 (정규표현식과 텍스트 필터링)\n",
    "\n",
    "한글자 단어와, 기호, \"ㅋㅋㅋ\" 등 큰 의미가 없는 단어를 제거하면, \n",
    "\n",
    "텍스트 데이터의 **노이즈를 줄이고, 더 정확하고 유용한 정보를 추출**할 수 있다.\n",
    "\n",
    "---\n",
    "\n",
    "텍스트 데이터의 전처리를 위해 `re`패키지를 사용한다.\n",
    "\n",
    "- `re`패키지는 정규표현식을 사용하여 문자열을 조작하는 기능을 제공한다.\n",
    "\n",
    "- `p = re.compile(pattern)`은 토큰에 **pattern**이 포함되어 있는지를 출력한다(True/False)\n",
    "\n",
    "- `\"[ㅋㅎㄷㅇ~!?.\\\\-ㅡ0-9a-z]+\"` 패턴은 **ㅋ, ㅎ, ㄷ, ㅇ, ~, !, ?, ., -, ㅡ, 숫자(0~9), 소문자 영어(a~z)** 를 의미한다.\n",
    "\n",
    "---\n",
    "\n",
    "1. 반복문을 사용하여 공백 기준으로 토큰화\n",
    "\n",
    "2. 토큰이 한 글자거나 pattern에 해당하면 스킵\n",
    "\n",
    "3. 스킵되지 않은 토큰들을 다시 문장으로 만들어 train clean 리스트에 넣기"
   ]
  },
  {
   "cell_type": "code",
   "execution_count": 115,
   "metadata": {},
   "outputs": [],
   "source": [
    "import re\n",
    "p = re.compile(\"[ㅋㅎㄷㅇ~!?.\\\\-ㅡ0-9a-z]+\")\n",
    "train_clean = [] \n",
    "\n",
    "for doc in train['문장']:\n",
    "    temp = []\n",
    "    for token in doc.split(\" \"):\n",
    "        if len(token) < 2:\n",
    "            continue\n",
    "        if p.search(token):\n",
    "            continue\n",
    "\n",
    "        temp.append(token)\n",
    "    train_clean.append(\" \".join(temp))\n",
    "\n",
    "# 테스트 데이터\n",
    "test_clean = []\n",
    "\n",
    "for doc in test['문장']:\n",
    "    temp = []\n",
    "    for token in doc.split(\" \"):\n",
    "        if len(token) < 2:\n",
    "            continue\n",
    "        if p.search(token):\n",
    "            continue\n",
    "\n",
    "        temp.append(token)\n",
    "    test_clean.append(\" \".join(temp))"
   ]
  },
  {
   "cell_type": "markdown",
   "metadata": {},
   "source": [
    "텍스트 데이터가 더 깔끔해진 것을 확인할 수 있다. "
   ]
  },
  {
   "cell_type": "code",
   "execution_count": 116,
   "metadata": {},
   "outputs": [
    {
     "data": {
      "text/plain": [
       "['일안하는 시간은 쉬고싶어서 그런게 아닐까',\n",
       " '아동성범죄와 페도버는 기록바 끊어져 영원히 고통 무슬림 IQ 떨어지고 출산 위험은',\n",
       " '루나 솔로앨범 나왔을 때부터 머모 기운 있었음 진짜 띵곡임 들어보셈\"',\n",
       " '홍팍에도 어버이연합인가 보내요 이런뎃글 있는데 이거 어버이연합측에 신고하면 그쪽에서 고소',\n",
       " '아놔 여기 댓들은 여자들이 김치녀라고 먼저 여자들은 심하게 이렇게 내가 둘다 나쁜 이상도 이하도 아닌데',\n",
       " '고향가서 피방가면 동네 부럴 친구들이랑은 거르는 없이 이야기하니까 말하게 되더라 당연히 키보드를 치거나 그러지는 않는데 말하는게 많이 거칠어지긴 반성해야겠네']"
      ]
     },
     "execution_count": 116,
     "metadata": {},
     "output_type": "execute_result"
    }
   ],
   "source": [
    "train_clean[:6]"
   ]
  },
  {
   "cell_type": "markdown",
   "metadata": {},
   "source": [
    "### 1-3. 텍스트 전처리 (형태소 단위 분리)\n",
    "\n",
    "한국어 문법 특성상 텍스트 데이터를 공백으로 나누는 것보다, **형태소 단위**로 나누면 텍스트의 의미를 더 정밀하게 분석할 수 있다. \n",
    "\n",
    "---\n",
    "\n",
    "형태소 분리를 하기 위해 `konlpy`패키지를 사용한다.\n",
    "\n",
    "`konlpy` 패키지에는 `Hannanum`, `Kkma`, `Komoran`, `Mecab`, `Okt`등의 형태소 분석기가 있다.\n",
    "\n",
    "`morphs()`함수는 문장을 형태소 단위로 나누어준다. \n",
    "\n",
    "다음은 형태소 단위 분리의 예시이다."
   ]
  },
  {
   "cell_type": "code",
   "execution_count": 117,
   "metadata": {},
   "outputs": [
    {
     "name": "stdout",
     "output_type": "stream",
     "text": [
      "['아버지', '가', '방', '에', '들어가신다']\n",
      "['아버지', '가방', '에', '들어가신다']\n"
     ]
    }
   ],
   "source": [
    "from konlpy.tag import Okt, Kkma\n",
    "okt = Okt()\n",
    "\n",
    "t_1 = \"아버지가 방에 들어가신다\"\n",
    "t_2 = \"아버지 가방에 들어가신다\"\n",
    "\n",
    "print(okt.morphs(t_1))\n",
    "print(okt.morphs(t_2))"
   ]
  },
  {
   "cell_type": "markdown",
   "metadata": {},
   "source": [
    "형태소 단위 분리에 앞서 `emoji`패키지를 사용해 문장 내의 이모지를 제거하였다."
   ]
  },
  {
   "cell_type": "code",
   "execution_count": 118,
   "metadata": {},
   "outputs": [],
   "source": [
    "import emoji\n",
    "train_clean = [emoji.replace_emoji(tc) for tc in train_clean]\n",
    "test_clean = [emoji.replace_emoji(tc) for tc in test_clean]"
   ]
  },
  {
   "cell_type": "markdown",
   "metadata": {},
   "source": [
    "`Kkma`형태소 분석기의 `morphs()` 함수를 사용하여 문장을 형태소로 분리, 리스트 형태로 저장.\n",
    "\n",
    "train : test = 2700 : 1000 으로 사용"
   ]
  },
  {
   "cell_type": "code",
   "execution_count": 119,
   "metadata": {},
   "outputs": [
    {
     "name": "stderr",
     "output_type": "stream",
     "text": [
      "100%|██████████| 2700/2700 [00:41<00:00, 65.42it/s] \n",
      "100%|██████████| 1000/1000 [00:15<00:00, 66.64it/s]\n"
     ]
    }
   ],
   "source": [
    "from tqdm import tqdm\n",
    "\n",
    "kkma = Kkma()\n",
    "konlpy_morphs_train = []\n",
    "for doc in tqdm(train_clean[:2700]):\n",
    "  rs = kkma.morphs(doc)\n",
    "  konlpy_morphs_train.append(\" \".join(rs))\n",
    "\n",
    "# 테스트트\n",
    "konlpy_morphs_test = []\n",
    "for doc in tqdm(test_clean[:1000]): \n",
    "  rs = kkma.morphs(doc)\n",
    "  konlpy_morphs_test.append(\" \".join(rs))"
   ]
  },
  {
   "cell_type": "code",
   "execution_count": 120,
   "metadata": {},
   "outputs": [
    {
     "data": {
      "text/plain": [
       "['일 안 하 는 시간 은 쉬 고 싶 어서 그러 ㄴ 것 이 아니 ㄹ까',\n",
       " '아동 성 범죄 와 페도버 는 기록 바 끊어지 어 영원히 고통 무슬림 IQ 떨어지 고 출산 위험 은',\n",
       " '루 나 솔로 앨범 나오 았 을 때 부터 머 모 기운 있 었 음 진짜 띵 곡 임 듣 어 보셈 \"',\n",
       " '홍팍에 도 어버이 연합 이 ㄴ가 보 내요 이러 ㄴ 뎃 글 있 는데 이거 어버이 연합 측 에 신고 하면 그쪽 에서 고소',\n",
       " '아 아 노 아 여기 댓 듣 은 여자 들 이 김치 녀 라고 먼저 여자 들 은 심하 게 이렇 게 내가 둘 다 나쁘 ㄴ 이상 도 이하 도 아니 ㄴ데',\n",
       " '고향 가 아서 피 방가 이 면 동네 부 럴 치 ㄴ 구들 이랑 은 거르 는 없이 이야기 하 니까 말하 게 되 더라 당연히 키보드 를 치 거나 그러 지 는 않 는데 말하 는 것 이 많이 거칠어지 기 는 반성 하 어야 겠네']"
      ]
     },
     "execution_count": 120,
     "metadata": {},
     "output_type": "execute_result"
    }
   ],
   "source": [
    "konlpy_morphs_train[:6]"
   ]
  },
  {
   "cell_type": "markdown",
   "metadata": {},
   "source": [
    "## 2. 텍스트 데이터 변환\n",
    "\n",
    "kkma 형태소 분석기로 분리한 텍스트 데이터를, 모델에 적용하기 위해 숫자 형태로 바꾸어준다.\n",
    "\n",
    "---\n",
    "### 2-1. BOW (Bag-of-Words)\n",
    "\n",
    "**BOW(Bag-of-Words)** 는 텍스트 데이터에서 각 단어의 빈도를 세어 숫자형 벡터로 변환하는 방법이다.\n",
    "\n",
    "`CountVectorizer`는 BOW방식으로 텍스트 데이터를 숫자형 피처 벡터로 변환해주는 `Scikit-learn`의 클래스이다. "
   ]
  },
  {
   "cell_type": "code",
   "execution_count": 78,
   "metadata": {},
   "outputs": [
    {
     "data": {
      "text/html": [
       "<style>#sk-container-id-3 {color: black;background-color: white;}#sk-container-id-3 pre{padding: 0;}#sk-container-id-3 div.sk-toggleable {background-color: white;}#sk-container-id-3 label.sk-toggleable__label {cursor: pointer;display: block;width: 100%;margin-bottom: 0;padding: 0.3em;box-sizing: border-box;text-align: center;}#sk-container-id-3 label.sk-toggleable__label-arrow:before {content: \"▸\";float: left;margin-right: 0.25em;color: #696969;}#sk-container-id-3 label.sk-toggleable__label-arrow:hover:before {color: black;}#sk-container-id-3 div.sk-estimator:hover label.sk-toggleable__label-arrow:before {color: black;}#sk-container-id-3 div.sk-toggleable__content {max-height: 0;max-width: 0;overflow: hidden;text-align: left;background-color: #f0f8ff;}#sk-container-id-3 div.sk-toggleable__content pre {margin: 0.2em;color: black;border-radius: 0.25em;background-color: #f0f8ff;}#sk-container-id-3 input.sk-toggleable__control:checked~div.sk-toggleable__content {max-height: 200px;max-width: 100%;overflow: auto;}#sk-container-id-3 input.sk-toggleable__control:checked~label.sk-toggleable__label-arrow:before {content: \"▾\";}#sk-container-id-3 div.sk-estimator input.sk-toggleable__control:checked~label.sk-toggleable__label {background-color: #d4ebff;}#sk-container-id-3 div.sk-label input.sk-toggleable__control:checked~label.sk-toggleable__label {background-color: #d4ebff;}#sk-container-id-3 input.sk-hidden--visually {border: 0;clip: rect(1px 1px 1px 1px);clip: rect(1px, 1px, 1px, 1px);height: 1px;margin: -1px;overflow: hidden;padding: 0;position: absolute;width: 1px;}#sk-container-id-3 div.sk-estimator {font-family: monospace;background-color: #f0f8ff;border: 1px dotted black;border-radius: 0.25em;box-sizing: border-box;margin-bottom: 0.5em;}#sk-container-id-3 div.sk-estimator:hover {background-color: #d4ebff;}#sk-container-id-3 div.sk-parallel-item::after {content: \"\";width: 100%;border-bottom: 1px solid gray;flex-grow: 1;}#sk-container-id-3 div.sk-label:hover label.sk-toggleable__label {background-color: #d4ebff;}#sk-container-id-3 div.sk-serial::before {content: \"\";position: absolute;border-left: 1px solid gray;box-sizing: border-box;top: 0;bottom: 0;left: 50%;z-index: 0;}#sk-container-id-3 div.sk-serial {display: flex;flex-direction: column;align-items: center;background-color: white;padding-right: 0.2em;padding-left: 0.2em;position: relative;}#sk-container-id-3 div.sk-item {position: relative;z-index: 1;}#sk-container-id-3 div.sk-parallel {display: flex;align-items: stretch;justify-content: center;background-color: white;position: relative;}#sk-container-id-3 div.sk-item::before, #sk-container-id-3 div.sk-parallel-item::before {content: \"\";position: absolute;border-left: 1px solid gray;box-sizing: border-box;top: 0;bottom: 0;left: 50%;z-index: -1;}#sk-container-id-3 div.sk-parallel-item {display: flex;flex-direction: column;z-index: 1;position: relative;background-color: white;}#sk-container-id-3 div.sk-parallel-item:first-child::after {align-self: flex-end;width: 50%;}#sk-container-id-3 div.sk-parallel-item:last-child::after {align-self: flex-start;width: 50%;}#sk-container-id-3 div.sk-parallel-item:only-child::after {width: 0;}#sk-container-id-3 div.sk-dashed-wrapped {border: 1px dashed gray;margin: 0 0.4em 0.5em 0.4em;box-sizing: border-box;padding-bottom: 0.4em;background-color: white;}#sk-container-id-3 div.sk-label label {font-family: monospace;font-weight: bold;display: inline-block;line-height: 1.2em;}#sk-container-id-3 div.sk-label-container {text-align: center;}#sk-container-id-3 div.sk-container {/* jupyter's `normalize.less` sets `[hidden] { display: none; }` but bootstrap.min.css set `[hidden] { display: none !important; }` so we also need the `!important` here to be able to override the default hidden behavior on the sphinx rendered scikit-learn.org. See: https://github.com/scikit-learn/scikit-learn/issues/21755 */display: inline-block !important;position: relative;}#sk-container-id-3 div.sk-text-repr-fallback {display: none;}</style><div id=\"sk-container-id-3\" class=\"sk-top-container\"><div class=\"sk-text-repr-fallback\"><pre>CountVectorizer()</pre><b>In a Jupyter environment, please rerun this cell to show the HTML representation or trust the notebook. <br />On GitHub, the HTML representation is unable to render, please try loading this page with nbviewer.org.</b></div><div class=\"sk-container\" hidden><div class=\"sk-item\"><div class=\"sk-estimator sk-toggleable\"><input class=\"sk-toggleable__control sk-hidden--visually\" id=\"sk-estimator-id-3\" type=\"checkbox\" checked><label for=\"sk-estimator-id-3\" class=\"sk-toggleable__label sk-toggleable__label-arrow\">CountVectorizer</label><div class=\"sk-toggleable__content\"><pre>CountVectorizer()</pre></div></div></div></div></div>"
      ],
      "text/plain": [
       "CountVectorizer()"
      ]
     },
     "execution_count": 78,
     "metadata": {},
     "output_type": "execute_result"
    }
   ],
   "source": [
    "from sklearn.feature_extraction.text import CountVectorizer\n",
    "\n",
    "sample_text = [\"나는 오늘 치킨을 먹을거야\",\n",
    "               \"너는 오늘 저녁에 무엇을 먹을거니\",\n",
    "               \"나는 오늘 아침에 운동을 하고 왔어\",\n",
    "               \"어제 저녁에 운동을 했더니 배가 고프다\"]\n",
    "\n",
    "sample_bow = CountVectorizer()\n",
    "sample_bow.fit(sample_text)"
   ]
  },
  {
   "cell_type": "markdown",
   "metadata": {},
   "source": [
    "예시 문장으로 만든 단어 사전 `sample_bow`는 다음과 같다."
   ]
  },
  {
   "cell_type": "code",
   "execution_count": 79,
   "metadata": {},
   "outputs": [
    {
     "data": {
      "text/plain": [
       "{'나는': 1,\n",
       " '오늘': 9,\n",
       " '치킨을': 13,\n",
       " '먹을거야': 4,\n",
       " '너는': 2,\n",
       " '저녁에': 12,\n",
       " '무엇을': 5,\n",
       " '먹을거니': 3,\n",
       " '아침에': 7,\n",
       " '운동을': 11,\n",
       " '하고': 14,\n",
       " '왔어': 10,\n",
       " '어제': 8,\n",
       " '했더니': 15,\n",
       " '배가': 6,\n",
       " '고프다': 0}"
      ]
     },
     "execution_count": 79,
     "metadata": {},
     "output_type": "execute_result"
    }
   ],
   "source": [
    "sample_bow.vocabulary_"
   ]
  },
  {
   "cell_type": "markdown",
   "metadata": {},
   "source": [
    "단어사전 16글자에서 어떤 단어가 등장했는지를 1로 표현하는 숫자 벡터이다.\n",
    "\n",
    "데이터프레임으로 변환한 단어사전과 비교해보면 이해할 수 있다."
   ]
  },
  {
   "cell_type": "code",
   "execution_count": 80,
   "metadata": {},
   "outputs": [
    {
     "data": {
      "text/html": [
       "<div>\n",
       "<style scoped>\n",
       "    .dataframe tbody tr th:only-of-type {\n",
       "        vertical-align: middle;\n",
       "    }\n",
       "\n",
       "    .dataframe tbody tr th {\n",
       "        vertical-align: top;\n",
       "    }\n",
       "\n",
       "    .dataframe thead th {\n",
       "        text-align: right;\n",
       "    }\n",
       "</style>\n",
       "<table border=\"1\" class=\"dataframe\">\n",
       "  <thead>\n",
       "    <tr style=\"text-align: right;\">\n",
       "      <th></th>\n",
       "      <th>0</th>\n",
       "      <th>1</th>\n",
       "      <th>2</th>\n",
       "      <th>3</th>\n",
       "      <th>4</th>\n",
       "      <th>5</th>\n",
       "      <th>6</th>\n",
       "      <th>7</th>\n",
       "      <th>8</th>\n",
       "      <th>9</th>\n",
       "      <th>10</th>\n",
       "      <th>11</th>\n",
       "      <th>12</th>\n",
       "      <th>13</th>\n",
       "      <th>14</th>\n",
       "      <th>15</th>\n",
       "    </tr>\n",
       "  </thead>\n",
       "  <tbody>\n",
       "    <tr>\n",
       "      <th>단어</th>\n",
       "      <td>고프다</td>\n",
       "      <td>나는</td>\n",
       "      <td>너는</td>\n",
       "      <td>먹을거니</td>\n",
       "      <td>먹을거야</td>\n",
       "      <td>무엇을</td>\n",
       "      <td>배가</td>\n",
       "      <td>아침에</td>\n",
       "      <td>어제</td>\n",
       "      <td>오늘</td>\n",
       "      <td>왔어</td>\n",
       "      <td>운동을</td>\n",
       "      <td>저녁에</td>\n",
       "      <td>치킨을</td>\n",
       "      <td>하고</td>\n",
       "      <td>했더니</td>\n",
       "    </tr>\n",
       "    <tr>\n",
       "      <th>인덱스</th>\n",
       "      <td>0</td>\n",
       "      <td>1</td>\n",
       "      <td>2</td>\n",
       "      <td>3</td>\n",
       "      <td>4</td>\n",
       "      <td>5</td>\n",
       "      <td>6</td>\n",
       "      <td>7</td>\n",
       "      <td>8</td>\n",
       "      <td>9</td>\n",
       "      <td>10</td>\n",
       "      <td>11</td>\n",
       "      <td>12</td>\n",
       "      <td>13</td>\n",
       "      <td>14</td>\n",
       "      <td>15</td>\n",
       "    </tr>\n",
       "  </tbody>\n",
       "</table>\n",
       "</div>"
      ],
      "text/plain": [
       "      0   1   2     3     4    5   6    7   8   9   10   11   12   13  14   15\n",
       "단어   고프다  나는  너는  먹을거니  먹을거야  무엇을  배가  아침에  어제  오늘  왔어  운동을  저녁에  치킨을  하고  했더니\n",
       "인덱스    0   1   2     3     4    5   6    7   8   9  10   11   12   13  14   15"
      ]
     },
     "execution_count": 80,
     "metadata": {},
     "output_type": "execute_result"
    }
   ],
   "source": [
    "pd.DataFrame([[i,j] for i,j in sample_bow.vocabulary_.items()], columns=[\"단어\",\"인덱스\"]).sort_values(\"인덱스\").reset_index(drop = True).T"
   ]
  },
  {
   "cell_type": "code",
   "execution_count": 81,
   "metadata": {},
   "outputs": [
    {
     "data": {
      "text/plain": [
       "array([[0, 1, 0, 0, 1, 0, 0, 0, 0, 1, 0, 0, 0, 1, 0, 0],\n",
       "       [0, 0, 1, 1, 0, 1, 0, 0, 0, 1, 0, 0, 1, 0, 0, 0],\n",
       "       [0, 1, 0, 0, 0, 0, 0, 1, 0, 1, 1, 1, 0, 0, 1, 0],\n",
       "       [1, 0, 0, 0, 0, 0, 1, 0, 1, 0, 0, 1, 1, 0, 0, 1]])"
      ]
     },
     "execution_count": 81,
     "metadata": {},
     "output_type": "execute_result"
    }
   ],
   "source": [
    "rs = sample_bow.transform(sample_text)\n",
    "rs.toarray()"
   ]
  },
  {
   "cell_type": "markdown",
   "metadata": {},
   "source": [
    "### 2-2. TF-IDF (Term Frequency-Inverse Document Frequency)\n",
    "\n",
    "**TF-IDF**는 텍스트를 숫자형 벡터로 변환하는 방법 중 하나로, 단어의 빈도(Term Frequency)에 가중치를 부여하는 방법이다.\n",
    "\n",
    "단순히 단어의 빈도만을 사용하는 Bag-of-Words 모델보다 **더 유용한 정보를 제공**한다."
   ]
  },
  {
   "cell_type": "code",
   "execution_count": 82,
   "metadata": {},
   "outputs": [],
   "source": [
    "from sklearn.feature_extraction.text import TfidfVectorizer\n",
    "\n",
    "sample_text = [\"나는 오늘 치킨을 먹을거야\",\n",
    "               \"너는 오늘 저녁에 무엇을 먹을거니\",\n",
    "               \"나는 오늘 아침에 운동을 하고 왔어\",\n",
    "               \"어제 저녁에 운동을 했더니 배가 고프다\"]\n",
    "\n",
    "tfidf_vectorizer = TfidfVectorizer()\n",
    "\n",
    "tfidf_vector = tfidf_vectorizer.fit_transform(sample_text)"
   ]
  },
  {
   "cell_type": "code",
   "execution_count": 83,
   "metadata": {},
   "outputs": [
    {
     "data": {
      "text/plain": [
       "{'나는': 1,\n",
       " '오늘': 9,\n",
       " '치킨을': 13,\n",
       " '먹을거야': 4,\n",
       " '너는': 2,\n",
       " '저녁에': 12,\n",
       " '무엇을': 5,\n",
       " '먹을거니': 3,\n",
       " '아침에': 7,\n",
       " '운동을': 11,\n",
       " '하고': 14,\n",
       " '왔어': 10,\n",
       " '어제': 8,\n",
       " '했더니': 15,\n",
       " '배가': 6,\n",
       " '고프다': 0}"
      ]
     },
     "execution_count": 83,
     "metadata": {},
     "output_type": "execute_result"
    }
   ],
   "source": [
    "tfidf_vectorizer.vocabulary_"
   ]
  },
  {
   "cell_type": "markdown",
   "metadata": {},
   "source": [
    "단어사전에 해당하는 인덱스가 0,1 이 아닌 가중치가 부여됨을 확인할 수 있다."
   ]
  },
  {
   "cell_type": "code",
   "execution_count": 84,
   "metadata": {},
   "outputs": [
    {
     "data": {
      "text/html": [
       "<div>\n",
       "<style scoped>\n",
       "    .dataframe tbody tr th:only-of-type {\n",
       "        vertical-align: middle;\n",
       "    }\n",
       "\n",
       "    .dataframe tbody tr th {\n",
       "        vertical-align: top;\n",
       "    }\n",
       "\n",
       "    .dataframe thead th {\n",
       "        text-align: right;\n",
       "    }\n",
       "</style>\n",
       "<table border=\"1\" class=\"dataframe\">\n",
       "  <thead>\n",
       "    <tr style=\"text-align: right;\">\n",
       "      <th></th>\n",
       "      <th>0</th>\n",
       "      <th>1</th>\n",
       "      <th>2</th>\n",
       "      <th>3</th>\n",
       "      <th>4</th>\n",
       "      <th>5</th>\n",
       "      <th>6</th>\n",
       "      <th>7</th>\n",
       "      <th>8</th>\n",
       "      <th>9</th>\n",
       "      <th>10</th>\n",
       "      <th>11</th>\n",
       "      <th>12</th>\n",
       "      <th>13</th>\n",
       "      <th>14</th>\n",
       "      <th>15</th>\n",
       "    </tr>\n",
       "  </thead>\n",
       "  <tbody>\n",
       "    <tr>\n",
       "      <th>단어</th>\n",
       "      <td>고프다</td>\n",
       "      <td>나는</td>\n",
       "      <td>너는</td>\n",
       "      <td>먹을거니</td>\n",
       "      <td>먹을거야</td>\n",
       "      <td>무엇을</td>\n",
       "      <td>배가</td>\n",
       "      <td>아침에</td>\n",
       "      <td>어제</td>\n",
       "      <td>오늘</td>\n",
       "      <td>왔어</td>\n",
       "      <td>운동을</td>\n",
       "      <td>저녁에</td>\n",
       "      <td>치킨을</td>\n",
       "      <td>하고</td>\n",
       "      <td>했더니</td>\n",
       "    </tr>\n",
       "    <tr>\n",
       "      <th>인덱스</th>\n",
       "      <td>0</td>\n",
       "      <td>1</td>\n",
       "      <td>2</td>\n",
       "      <td>3</td>\n",
       "      <td>4</td>\n",
       "      <td>5</td>\n",
       "      <td>6</td>\n",
       "      <td>7</td>\n",
       "      <td>8</td>\n",
       "      <td>9</td>\n",
       "      <td>10</td>\n",
       "      <td>11</td>\n",
       "      <td>12</td>\n",
       "      <td>13</td>\n",
       "      <td>14</td>\n",
       "      <td>15</td>\n",
       "    </tr>\n",
       "  </tbody>\n",
       "</table>\n",
       "</div>"
      ],
      "text/plain": [
       "      0   1   2     3     4    5   6    7   8   9   10   11   12   13  14   15\n",
       "단어   고프다  나는  너는  먹을거니  먹을거야  무엇을  배가  아침에  어제  오늘  왔어  운동을  저녁에  치킨을  하고  했더니\n",
       "인덱스    0   1   2     3     4    5   6    7   8   9  10   11   12   13  14   15"
      ]
     },
     "execution_count": 84,
     "metadata": {},
     "output_type": "execute_result"
    }
   ],
   "source": [
    "pd.DataFrame([[i,j] for i,j in tfidf_vectorizer.vocabulary_.items()], columns=[\"단어\",\"인덱스\"]).sort_values(\"인덱스\").reset_index(drop = True).T"
   ]
  },
  {
   "cell_type": "code",
   "execution_count": 85,
   "metadata": {},
   "outputs": [
    {
     "name": "stdout",
     "output_type": "stream",
     "text": [
      "[[0.         0.4530051  0.         0.         0.57457953 0.\n",
      "  0.         0.         0.         0.36674667 0.         0.\n",
      "  0.         0.57457953 0.         0.        ]\n",
      " [0.         0.         0.49819711 0.49819711 0.         0.49819711\n",
      "  0.         0.         0.         0.31799276 0.         0.\n",
      "  0.39278432 0.         0.         0.        ]\n",
      " [0.         0.36559366 0.         0.         0.         0.\n",
      "  0.         0.46370919 0.         0.29597957 0.46370919 0.36559366\n",
      "  0.         0.         0.46370919 0.        ]\n",
      " [0.43671931 0.         0.         0.         0.         0.\n",
      "  0.43671931 0.         0.43671931 0.         0.         0.34431452\n",
      "  0.34431452 0.         0.         0.43671931]]\n"
     ]
    }
   ],
   "source": [
    "print(tfidf_vector.toarray())"
   ]
  },
  {
   "cell_type": "markdown",
   "metadata": {},
   "source": [
    "### 2-3. SentenceTransformer\n",
    "\n",
    "**SentenceTransformer**는 Transformer(영화아님, 딥러닝 모델) 기반의 사전 학습된 모델을 통하여 문장을 고차원 숫자 벡터로 변환한다.\n",
    "\n",
    "TF-IDF는 단어의 빈도에 가중치를 부여하는 방식으로, 문맥을 고려하지 못한다. ex)똥맛 카레, 카레맛 똥\n",
    "\n",
    "**SentenceTransformer**는 Transformer기반 모델을 통해 문맥을 고려하여 문장 내의 단어 순서와 의미를 반영할 수 있다.\n",
    "\n",
    "차원수의 차이 때문에 단순한 텍스트 분석인지, 복잡한 자연어처리 작업인지에 따라 사용하면 된다.\n",
    "\n",
    "[사용모델 paraphrase-MiniLM-L6-v2](https://huggingface.co/sentence-transformers/paraphrase-MiniLM-L6-v2)"
   ]
  },
  {
   "cell_type": "code",
   "execution_count": 86,
   "metadata": {},
   "outputs": [
    {
     "data": {
      "text/plain": [
       "array([[-0.0055915 ,  0.58696157,  0.12903269, ..., -0.5404554 ,\n",
       "         0.9031779 ,  0.508091  ],\n",
       "       [ 0.14074272,  0.4005823 ,  0.07539973, ..., -0.30134737,\n",
       "         0.9708954 ,  0.6109679 ],\n",
       "       [ 0.26552293,  0.540008  ,  0.1140722 , ..., -0.55974346,\n",
       "         0.8789244 ,  0.6666612 ],\n",
       "       [ 0.23060054,  0.45907632,  0.08265256, ..., -0.41313243,\n",
       "         1.0001894 ,  0.5942588 ]], dtype=float32)"
      ]
     },
     "execution_count": 86,
     "metadata": {},
     "output_type": "execute_result"
    }
   ],
   "source": [
    "from sentence_transformers import SentenceTransformer\n",
    "\n",
    "sample_text = [\"나는 오늘 치킨을 먹을거야\",\n",
    "               \"너는 오늘 저녁에 무엇을 먹을거니\",\n",
    "               \"나는 오늘 아침에 운동을 하고 왔어\",\n",
    "               \"어제 저녁에 운동을 했더니 배가 고프다\"]\n",
    "\n",
    "sample_embedding = SentenceTransformer('paraphrase-MiniLM-L6-v2')\n",
    "\n",
    "embeddings = sample_embedding.encode(sample_text)\n",
    "embeddings"
   ]
  },
  {
   "cell_type": "markdown",
   "metadata": {},
   "source": [
    "4 * 384의 행렬으로 변환되었다. (TF-IDF보다 큼)"
   ]
  },
  {
   "cell_type": "code",
   "execution_count": 87,
   "metadata": {},
   "outputs": [
    {
     "data": {
      "text/plain": [
       "(4, 384)"
      ]
     },
     "execution_count": 87,
     "metadata": {},
     "output_type": "execute_result"
    }
   ],
   "source": [
    "embeddings.shape"
   ]
  },
  {
   "cell_type": "markdown",
   "metadata": {},
   "source": [
    "## 3. 모델 적용 (분류, Classification)\n",
    "\n",
    "\n",
    "분류 모델을 사용하여 숫자 벡터로 바꾼 텍스트 데이터가 무얼 혐오하는지 분류한다.\n",
    "\n",
    "\n",
    "\n",
    "앞서 사용한 텍스트 데이터의 변환 중 BOW(CountVectorizer), TF-IDF(TfidfVectorizer) 방식을 사용한다.\n",
    "\n",
    "파라미터의 의미는 다음과 같다.\n",
    "\n",
    "- `stop_words=` : 숫자 벡터로 변환하는 과정에서 무시할 단어의 리스트\n",
    "\n",
    "- `ngram_range=` : 단어 묶음의 범위\n",
    "    - ngram_range=1이면 [\"오늘\", \"치킨을\"]\n",
    "    - ngram_range=2 면 [\"오늘 치킨을\"]\n",
    "    - (1,2)는 [\"오늘\", \"치킨을\", \"오늘 치킨을\"] 이다\n",
    "\n",
    "- `max_df=` 특정 단어가 너무 자주 등장하면 무시하는 기능 (0.7 -> 전체 문서의 70%이상이면 무시)\n",
    "\n",
    "- `min_df=` 특정 단어가 너무 적게 등장하면 무시하는 기능 (10 -> 10개 이하는 무시)\n",
    "\n",
    "### 3-1. 데이터 변환 적용"
   ]
  },
  {
   "cell_type": "code",
   "execution_count": 90,
   "metadata": {},
   "outputs": [],
   "source": [
    "unsmile_bow = CountVectorizer(stop_words=[\"으로\",\"을\",\"를\",\"은\",\"이다\"],\n",
    "                              ngram_range = (1,2),\n",
    "                              max_df = 0.7, min_df = 10)\n",
    "unsmile_tfidf = TfidfVectorizer(stop_words=[\"으로\",\"을\",\"를\",\"은\",\"이다\"],\n",
    "                              ngram_range = (1,2),\n",
    "                              max_df = 0.7, min_df = 10)"
   ]
  },
  {
   "cell_type": "markdown",
   "metadata": {},
   "source": [
    "앞서 `konlpy.Kkma`를 사용해서 형태소 단위로 나는 데이터를 사용한다.\n",
    "\n",
    "`fit_transform()`메소드로 train 데이터를 학습하고, 변환하고\n",
    "\n",
    "`transform()` 메소드로 test 데이터를 변환한다."
   ]
  },
  {
   "cell_type": "code",
   "execution_count": 93,
   "metadata": {},
   "outputs": [],
   "source": [
    "X_train_bow = unsmile_bow.fit_transform(konlpy_morphs_train)\n",
    "X_test_bow = unsmile_bow.transform(konlpy_morphs_test)\n",
    "\n",
    "X_train_tfidf = unsmile_tfidf.fit_transform(konlpy_morphs_train)\n",
    "X_test_tfidf = unsmile_tfidf.transform(konlpy_morphs_test)"
   ]
  },
  {
   "cell_type": "markdown",
   "metadata": {},
   "source": [
    "**y**는 어떤 대상을 혐오한지의 인덱스 값이다. "
   ]
  },
  {
   "cell_type": "code",
   "execution_count": 121,
   "metadata": {},
   "outputs": [
    {
     "name": "stdout",
     "output_type": "stream",
     "text": [
      "인덱스[0] : 여성/가족\n",
      "인덱스[1] : 남성\n",
      "인덱스[2] : 성소수자\n",
      "인덱스[3] : 인종/국적\n",
      "인덱스[4] : 연령\n",
      "인덱스[5] : 지역\n",
      "인덱스[6] : 종교\n",
      "인덱스[7] : 기타 혐오\n",
      "인덱스[8] : 악플/욕설\n",
      "인덱스[9] : clean\n"
     ]
    }
   ],
   "source": [
    "for i,j in enumerate(train.loc[:, \"여성/가족\":\"clean\"].columns):\n",
    "    print(f\"인덱스[{i}] : {j}\")"
   ]
  },
  {
   "cell_type": "code",
   "execution_count": 122,
   "metadata": {},
   "outputs": [],
   "source": [
    "y_train = train.loc[:, \"여성/가족\":\"clean\"].values.argmax(axis=1)\n",
    "y_test = test.loc[:, \"여성/가족\":\"clean\"].values.argmax(axis=1)\n",
    "y_train = y_train[:2700]\n",
    "y_test = y_test[:1000]"
   ]
  },
  {
   "cell_type": "markdown",
   "metadata": {},
   "source": [
    "### 3-2. 모델 적용 (로지스틱 회귀 분석)\n",
    "\n",
    "#### 3-2-1. BOW 방식"
   ]
  },
  {
   "cell_type": "code",
   "execution_count": 133,
   "metadata": {},
   "outputs": [
    {
     "name": "stdout",
     "output_type": "stream",
     "text": [
      "              precision    recall  f1-score   support\n",
      "\n",
      "           0       0.35      0.49      0.41        78\n",
      "           1       0.59      0.69      0.64        65\n",
      "           2       0.51      0.64      0.57        59\n",
      "           3       0.43      0.73      0.54        66\n",
      "           4       0.19      1.00      0.32         6\n",
      "           5       0.55      0.76      0.64        42\n",
      "           6       0.58      0.81      0.67        37\n",
      "           7       0.00      0.00      0.00         5\n",
      "           8       0.38      0.34      0.36       218\n",
      "           9       0.74      0.45      0.56       424\n",
      "\n",
      "    accuracy                           0.50      1000\n",
      "   macro avg       0.43      0.59      0.47      1000\n",
      "weighted avg       0.57      0.50      0.51      1000\n",
      "\n"
     ]
    }
   ],
   "source": [
    "from sklearn.linear_model import LogisticRegression\n",
    "from sklearn.metrics import classification_report\n",
    "\n",
    "logistic = LogisticRegression()\n",
    "\n",
    "# 학습\n",
    "logistic.fit(X_train_bow, y_train)\n",
    "\n",
    "# 예측\n",
    "bow_pred = logistic.predict(X_test_bow)\n",
    "\n",
    "# 분류 평가지표\n",
    "print(classification_report(bow_pred,y_test))"
   ]
  },
  {
   "cell_type": "markdown",
   "metadata": {},
   "source": [
    "#### 3-2-2. TF-IDF 방식"
   ]
  },
  {
   "cell_type": "code",
   "execution_count": 134,
   "metadata": {},
   "outputs": [
    {
     "name": "stdout",
     "output_type": "stream",
     "text": [
      "              precision    recall  f1-score   support\n",
      "\n",
      "           0       0.33      0.55      0.41        65\n",
      "           1       0.59      0.70      0.64        64\n",
      "           2       0.49      0.68      0.57        53\n",
      "           3       0.38      0.74      0.50        57\n",
      "           4       0.19      1.00      0.32         6\n",
      "           5       0.50      0.83      0.62        35\n",
      "           6       0.62      0.84      0.71        38\n",
      "           7       0.00      0.00      0.00         0\n",
      "           8       0.41      0.35      0.38       236\n",
      "           9       0.76      0.44      0.56       446\n",
      "\n",
      "    accuracy                           0.50      1000\n",
      "   macro avg       0.43      0.61      0.47      1000\n",
      "weighted avg       0.58      0.50      0.51      1000\n",
      "\n"
     ]
    }
   ],
   "source": [
    "logistic = LogisticRegression()\n",
    "\n",
    "# 학습\n",
    "logistic.fit(X_train_tfidf, y_train)\n",
    "\n",
    "# 예측\n",
    "tfidf_pred = logistic.predict(X_test_tfidf)\n",
    "\n",
    "# 분류 평가지표\n",
    "print(classification_report(tfidf_pred,y_test))"
   ]
  },
  {
   "cell_type": "markdown",
   "metadata": {},
   "source": [
    "#### 3-2-3. SentenceTransformer 방식\n",
    "\n",
    "`SentenceTransformer`방식은 시간이 오래 걸려 사전 처리된 데이터를 불러와 사용하였다."
   ]
  },
  {
   "cell_type": "code",
   "execution_count": 136,
   "metadata": {},
   "outputs": [],
   "source": [
    "import pickle\n",
    "## pkl 파일 불러오기기\n",
    "test_pkl_path = \"/home/sungil/DXschool/data/X_test_setence_transformer3.pkl\"\n",
    "train_pkl_path = \"/home/sungil/DXschool/data/X_train_setence_transformer3.pkl\"\n",
    "\n",
    "with open(train_pkl_path,\"rb\") as f:\n",
    "    X_train_embedding = pickle.load(f)\n",
    "\n",
    "with open(test_pkl_path,\"rb\") as f:\n",
    "    X_test_embedding = pickle.load(f)"
   ]
  },
  {
   "cell_type": "code",
   "execution_count": 143,
   "metadata": {},
   "outputs": [
    {
     "data": {
      "text/plain": [
       "((2700, 768), (1000, 768))"
      ]
     },
     "execution_count": 143,
     "metadata": {},
     "output_type": "execute_result"
    }
   ],
   "source": [
    "X_train_embedding = pd.DataFrame(X_train_embedding[:2700])\n",
    "X_test_embedding = pd.DataFrame(X_test_embedding[:1000])\n",
    "# 차원 수\n",
    "X_train_embedding.shape, X_test_embedding.shape"
   ]
  },
  {
   "cell_type": "code",
   "execution_count": 142,
   "metadata": {},
   "outputs": [
    {
     "name": "stdout",
     "output_type": "stream",
     "text": [
      "              precision    recall  f1-score   support\n",
      "\n",
      "           0       0.59      0.60      0.60       106\n",
      "           1       0.63      0.55      0.59        88\n",
      "           2       0.70      0.66      0.68        79\n",
      "           3       0.57      0.61      0.59       103\n",
      "           4       0.38      0.52      0.44        23\n",
      "           5       0.60      0.66      0.63        53\n",
      "           6       0.62      0.65      0.63        49\n",
      "           7       0.07      0.15      0.09        13\n",
      "           8       0.52      0.47      0.49       219\n",
      "           9       0.60      0.58      0.59       267\n",
      "\n",
      "    accuracy                           0.57      1000\n",
      "   macro avg       0.53      0.55      0.53      1000\n",
      "weighted avg       0.58      0.57      0.57      1000\n",
      "\n"
     ]
    }
   ],
   "source": [
    "logistic = LogisticRegression()\n",
    "\n",
    "# 학습\n",
    "logistic.fit(X_train_embedding, y_train)\n",
    "\n",
    "# 예측\n",
    "embedding_pred = logistic.predict(X_test_embedding)\n",
    "\n",
    "# 분류 평가지표\n",
    "print(classification_report(embedding_pred,y_test))"
   ]
  },
  {
   "cell_type": "markdown",
   "metadata": {},
   "source": [
    "## 4. 성능 지표 해석\n",
    "\n",
    "![image-2.png](data/classification_report.png)"
   ]
  },
  {
   "cell_type": "markdown",
   "metadata": {},
   "source": [
    "분류 결과 \n",
    "- acurracy (정확도) : 0.5, 0.5, 0.57\n",
    "- precision (정밀도) : 0.43, 0.43, 0.53\n",
    "- recall (재현률) : 0.59, 0.61, 0.55\n",
    "\n",
    "세 모델 모두 분류 성능이 좋지 않다는걸 확인할 수 있다.\n",
    "\n",
    "train 데이터의 **클래스 불균형**(4번,7번 클래스가 특히 부족)이 있었다.\n",
    "\n",
    "클래스 불균형 문제를 해결하거나, 하이퍼파라미터 튜닝, 다른 분류모델 사용, 다른 벡터화 기법 사용 등을 고려해봐야 한다."
   ]
  },
  {
   "cell_type": "markdown",
   "metadata": {},
   "source": [
    "## 5. 파이프라인 & 하이퍼파라미터 튜닝\n",
    "\n",
    "전처리 과정을 묶고 최적의 파라미터 찾기"
   ]
  },
  {
   "cell_type": "markdown",
   "metadata": {},
   "source": [
    "\n",
    "\n",
    "### 5-1. 파이프라인\n",
    "\n",
    "텍스트 데이터를 숫자 벡터로 변환하고, 분류 모델을 평가하는 과정을 파이프라인을 통해 하나로 묶을 수 있다. \n",
    "\n",
    "`Pipeline([(\"이름1\", 클래스1),(\"이름2\", 클래스2)])`\n",
    "\n",
    "다음 파이프라인은 형태소로 분리한 텍스트 데이터를 받아\n",
    "- TF-IDF 방식 숫자형 벡터로 변환\n",
    "- 로지스틱 회귀분석\n",
    "\n",
    "을 진행한다."
   ]
  },
  {
   "cell_type": "code",
   "execution_count": 153,
   "metadata": {},
   "outputs": [],
   "source": [
    "from sklearn.pipeline import Pipeline\n",
    "\n",
    "pipeline = Pipeline(\n",
    "    [\n",
    "        (\"tf_idf\", TfidfVectorizer()),\n",
    "        (\"logi\", LogisticRegression())\n",
    "    ]\n",
    ")"
   ]
  },
  {
   "cell_type": "code",
   "execution_count": 154,
   "metadata": {},
   "outputs": [
    {
     "data": {
      "text/html": [
       "<style>#sk-container-id-7 {color: black;background-color: white;}#sk-container-id-7 pre{padding: 0;}#sk-container-id-7 div.sk-toggleable {background-color: white;}#sk-container-id-7 label.sk-toggleable__label {cursor: pointer;display: block;width: 100%;margin-bottom: 0;padding: 0.3em;box-sizing: border-box;text-align: center;}#sk-container-id-7 label.sk-toggleable__label-arrow:before {content: \"▸\";float: left;margin-right: 0.25em;color: #696969;}#sk-container-id-7 label.sk-toggleable__label-arrow:hover:before {color: black;}#sk-container-id-7 div.sk-estimator:hover label.sk-toggleable__label-arrow:before {color: black;}#sk-container-id-7 div.sk-toggleable__content {max-height: 0;max-width: 0;overflow: hidden;text-align: left;background-color: #f0f8ff;}#sk-container-id-7 div.sk-toggleable__content pre {margin: 0.2em;color: black;border-radius: 0.25em;background-color: #f0f8ff;}#sk-container-id-7 input.sk-toggleable__control:checked~div.sk-toggleable__content {max-height: 200px;max-width: 100%;overflow: auto;}#sk-container-id-7 input.sk-toggleable__control:checked~label.sk-toggleable__label-arrow:before {content: \"▾\";}#sk-container-id-7 div.sk-estimator input.sk-toggleable__control:checked~label.sk-toggleable__label {background-color: #d4ebff;}#sk-container-id-7 div.sk-label input.sk-toggleable__control:checked~label.sk-toggleable__label {background-color: #d4ebff;}#sk-container-id-7 input.sk-hidden--visually {border: 0;clip: rect(1px 1px 1px 1px);clip: rect(1px, 1px, 1px, 1px);height: 1px;margin: -1px;overflow: hidden;padding: 0;position: absolute;width: 1px;}#sk-container-id-7 div.sk-estimator {font-family: monospace;background-color: #f0f8ff;border: 1px dotted black;border-radius: 0.25em;box-sizing: border-box;margin-bottom: 0.5em;}#sk-container-id-7 div.sk-estimator:hover {background-color: #d4ebff;}#sk-container-id-7 div.sk-parallel-item::after {content: \"\";width: 100%;border-bottom: 1px solid gray;flex-grow: 1;}#sk-container-id-7 div.sk-label:hover label.sk-toggleable__label {background-color: #d4ebff;}#sk-container-id-7 div.sk-serial::before {content: \"\";position: absolute;border-left: 1px solid gray;box-sizing: border-box;top: 0;bottom: 0;left: 50%;z-index: 0;}#sk-container-id-7 div.sk-serial {display: flex;flex-direction: column;align-items: center;background-color: white;padding-right: 0.2em;padding-left: 0.2em;position: relative;}#sk-container-id-7 div.sk-item {position: relative;z-index: 1;}#sk-container-id-7 div.sk-parallel {display: flex;align-items: stretch;justify-content: center;background-color: white;position: relative;}#sk-container-id-7 div.sk-item::before, #sk-container-id-7 div.sk-parallel-item::before {content: \"\";position: absolute;border-left: 1px solid gray;box-sizing: border-box;top: 0;bottom: 0;left: 50%;z-index: -1;}#sk-container-id-7 div.sk-parallel-item {display: flex;flex-direction: column;z-index: 1;position: relative;background-color: white;}#sk-container-id-7 div.sk-parallel-item:first-child::after {align-self: flex-end;width: 50%;}#sk-container-id-7 div.sk-parallel-item:last-child::after {align-self: flex-start;width: 50%;}#sk-container-id-7 div.sk-parallel-item:only-child::after {width: 0;}#sk-container-id-7 div.sk-dashed-wrapped {border: 1px dashed gray;margin: 0 0.4em 0.5em 0.4em;box-sizing: border-box;padding-bottom: 0.4em;background-color: white;}#sk-container-id-7 div.sk-label label {font-family: monospace;font-weight: bold;display: inline-block;line-height: 1.2em;}#sk-container-id-7 div.sk-label-container {text-align: center;}#sk-container-id-7 div.sk-container {/* jupyter's `normalize.less` sets `[hidden] { display: none; }` but bootstrap.min.css set `[hidden] { display: none !important; }` so we also need the `!important` here to be able to override the default hidden behavior on the sphinx rendered scikit-learn.org. See: https://github.com/scikit-learn/scikit-learn/issues/21755 */display: inline-block !important;position: relative;}#sk-container-id-7 div.sk-text-repr-fallback {display: none;}</style><div id=\"sk-container-id-7\" class=\"sk-top-container\"><div class=\"sk-text-repr-fallback\"><pre>Pipeline(steps=[(&#x27;tf_idf&#x27;, TfidfVectorizer()), (&#x27;logi&#x27;, LogisticRegression())])</pre><b>In a Jupyter environment, please rerun this cell to show the HTML representation or trust the notebook. <br />On GitHub, the HTML representation is unable to render, please try loading this page with nbviewer.org.</b></div><div class=\"sk-container\" hidden><div class=\"sk-item sk-dashed-wrapped\"><div class=\"sk-label-container\"><div class=\"sk-label sk-toggleable\"><input class=\"sk-toggleable__control sk-hidden--visually\" id=\"sk-estimator-id-11\" type=\"checkbox\" ><label for=\"sk-estimator-id-11\" class=\"sk-toggleable__label sk-toggleable__label-arrow\">Pipeline</label><div class=\"sk-toggleable__content\"><pre>Pipeline(steps=[(&#x27;tf_idf&#x27;, TfidfVectorizer()), (&#x27;logi&#x27;, LogisticRegression())])</pre></div></div></div><div class=\"sk-serial\"><div class=\"sk-item\"><div class=\"sk-estimator sk-toggleable\"><input class=\"sk-toggleable__control sk-hidden--visually\" id=\"sk-estimator-id-12\" type=\"checkbox\" ><label for=\"sk-estimator-id-12\" class=\"sk-toggleable__label sk-toggleable__label-arrow\">TfidfVectorizer</label><div class=\"sk-toggleable__content\"><pre>TfidfVectorizer()</pre></div></div></div><div class=\"sk-item\"><div class=\"sk-estimator sk-toggleable\"><input class=\"sk-toggleable__control sk-hidden--visually\" id=\"sk-estimator-id-13\" type=\"checkbox\" ><label for=\"sk-estimator-id-13\" class=\"sk-toggleable__label sk-toggleable__label-arrow\">LogisticRegression</label><div class=\"sk-toggleable__content\"><pre>LogisticRegression()</pre></div></div></div></div></div></div></div>"
      ],
      "text/plain": [
       "Pipeline(steps=[('tf_idf', TfidfVectorizer()), ('logi', LogisticRegression())])"
      ]
     },
     "execution_count": 154,
     "metadata": {},
     "output_type": "execute_result"
    }
   ],
   "source": [
    "# 학습\n",
    "pipeline.fit(konlpy_morphs_train,y_train)"
   ]
  },
  {
   "cell_type": "code",
   "execution_count": 155,
   "metadata": {},
   "outputs": [
    {
     "data": {
      "text/plain": [
       "0.5"
      ]
     },
     "execution_count": 155,
     "metadata": {},
     "output_type": "execute_result"
    }
   ],
   "source": [
    "# 평가 (Accuracy)\n",
    "pipeline.score(konlpy_morphs_test, y_test)"
   ]
  },
  {
   "cell_type": "markdown",
   "metadata": {},
   "source": [
    "### 5-2. 하이퍼파라미터 튜닝\n",
    "\n",
    "**하이퍼 파라미터**는 파라미터와 구분하여 사용자가 설정하는 값들을 모두 지칭한다.\n",
    "\n",
    "\n",
    "`GridSearchCV`를 사용하여 최적의 하이퍼파라미터 조합을 찾아낸다.\n",
    "\n",
    "숫자벡터 변환, 분류 모델 들어가는 하이파파라미터들의 조합은 아주 많다. 하나하나 하기엔 오래걸리니까 한다."
   ]
  },
  {
   "cell_type": "markdown",
   "metadata": {},
   "source": [
    "\n",
    "앞서 만든 파이프라인을 사용한다.\n",
    "\n",
    "{\"이름1__파라미터명1\" : [파라미터1,파라미터2...],<br>\n",
    "\"이름1__파라미터명2\" : [파라미터1,파라미터2...],<br>\n",
    "\"이름2__파라미터명1\" : [파라미터1,파라미터2...]}\n",
    "\n",
    "으로 작성하고 \n",
    "\n",
    "`GridSearchCV(pipeline, grid_params, cv=3)`\n",
    "\n",
    "- pipeline : 파이프라인\n",
    "- grid_params : 파리미터들\n",
    "- cv : Cross Validation\n",
    "\n",
    "\n"
   ]
  },
  {
   "cell_type": "markdown",
   "metadata": {},
   "source": [
    "이건 Cross Validation(교차 검증)이다.\n",
    "\n",
    "학습 데이터를 n개로 나눠서 n번 학습을 하고 자체 평가를 한다.\n",
    "\n",
    "성능이 좋아지지만, 시간이 오래 걸린디.\n",
    "\n",
    "![image.png](data/cross_validation.png)"
   ]
  },
  {
   "cell_type": "markdown",
   "metadata": {},
   "source": [
    "Logistic Regression의 `C`파라미터는 규제 강도를 조절한다.\n",
    "\n",
    "작을수록 규제가 강해지고 높을수록 약해진다.\n",
    "\n",
    "- 규제가 강하면 과대적합을 방지하지만 **과소적합의 위험**이 있다.\n",
    "- 규제가 약하면 과소적합을 방지하지만 **과대적합의 위험**이 있다.\n"
   ]
  },
  {
   "cell_type": "code",
   "execution_count": 156,
   "metadata": {},
   "outputs": [
    {
     "data": {
      "text/html": [
       "<style>#sk-container-id-8 {color: black;background-color: white;}#sk-container-id-8 pre{padding: 0;}#sk-container-id-8 div.sk-toggleable {background-color: white;}#sk-container-id-8 label.sk-toggleable__label {cursor: pointer;display: block;width: 100%;margin-bottom: 0;padding: 0.3em;box-sizing: border-box;text-align: center;}#sk-container-id-8 label.sk-toggleable__label-arrow:before {content: \"▸\";float: left;margin-right: 0.25em;color: #696969;}#sk-container-id-8 label.sk-toggleable__label-arrow:hover:before {color: black;}#sk-container-id-8 div.sk-estimator:hover label.sk-toggleable__label-arrow:before {color: black;}#sk-container-id-8 div.sk-toggleable__content {max-height: 0;max-width: 0;overflow: hidden;text-align: left;background-color: #f0f8ff;}#sk-container-id-8 div.sk-toggleable__content pre {margin: 0.2em;color: black;border-radius: 0.25em;background-color: #f0f8ff;}#sk-container-id-8 input.sk-toggleable__control:checked~div.sk-toggleable__content {max-height: 200px;max-width: 100%;overflow: auto;}#sk-container-id-8 input.sk-toggleable__control:checked~label.sk-toggleable__label-arrow:before {content: \"▾\";}#sk-container-id-8 div.sk-estimator input.sk-toggleable__control:checked~label.sk-toggleable__label {background-color: #d4ebff;}#sk-container-id-8 div.sk-label input.sk-toggleable__control:checked~label.sk-toggleable__label {background-color: #d4ebff;}#sk-container-id-8 input.sk-hidden--visually {border: 0;clip: rect(1px 1px 1px 1px);clip: rect(1px, 1px, 1px, 1px);height: 1px;margin: -1px;overflow: hidden;padding: 0;position: absolute;width: 1px;}#sk-container-id-8 div.sk-estimator {font-family: monospace;background-color: #f0f8ff;border: 1px dotted black;border-radius: 0.25em;box-sizing: border-box;margin-bottom: 0.5em;}#sk-container-id-8 div.sk-estimator:hover {background-color: #d4ebff;}#sk-container-id-8 div.sk-parallel-item::after {content: \"\";width: 100%;border-bottom: 1px solid gray;flex-grow: 1;}#sk-container-id-8 div.sk-label:hover label.sk-toggleable__label {background-color: #d4ebff;}#sk-container-id-8 div.sk-serial::before {content: \"\";position: absolute;border-left: 1px solid gray;box-sizing: border-box;top: 0;bottom: 0;left: 50%;z-index: 0;}#sk-container-id-8 div.sk-serial {display: flex;flex-direction: column;align-items: center;background-color: white;padding-right: 0.2em;padding-left: 0.2em;position: relative;}#sk-container-id-8 div.sk-item {position: relative;z-index: 1;}#sk-container-id-8 div.sk-parallel {display: flex;align-items: stretch;justify-content: center;background-color: white;position: relative;}#sk-container-id-8 div.sk-item::before, #sk-container-id-8 div.sk-parallel-item::before {content: \"\";position: absolute;border-left: 1px solid gray;box-sizing: border-box;top: 0;bottom: 0;left: 50%;z-index: -1;}#sk-container-id-8 div.sk-parallel-item {display: flex;flex-direction: column;z-index: 1;position: relative;background-color: white;}#sk-container-id-8 div.sk-parallel-item:first-child::after {align-self: flex-end;width: 50%;}#sk-container-id-8 div.sk-parallel-item:last-child::after {align-self: flex-start;width: 50%;}#sk-container-id-8 div.sk-parallel-item:only-child::after {width: 0;}#sk-container-id-8 div.sk-dashed-wrapped {border: 1px dashed gray;margin: 0 0.4em 0.5em 0.4em;box-sizing: border-box;padding-bottom: 0.4em;background-color: white;}#sk-container-id-8 div.sk-label label {font-family: monospace;font-weight: bold;display: inline-block;line-height: 1.2em;}#sk-container-id-8 div.sk-label-container {text-align: center;}#sk-container-id-8 div.sk-container {/* jupyter's `normalize.less` sets `[hidden] { display: none; }` but bootstrap.min.css set `[hidden] { display: none !important; }` so we also need the `!important` here to be able to override the default hidden behavior on the sphinx rendered scikit-learn.org. See: https://github.com/scikit-learn/scikit-learn/issues/21755 */display: inline-block !important;position: relative;}#sk-container-id-8 div.sk-text-repr-fallback {display: none;}</style><div id=\"sk-container-id-8\" class=\"sk-top-container\"><div class=\"sk-text-repr-fallback\"><pre>GridSearchCV(cv=3,\n",
       "             estimator=Pipeline(steps=[(&#x27;tf_idf&#x27;, TfidfVectorizer()),\n",
       "                                       (&#x27;logi&#x27;, LogisticRegression())]),\n",
       "             param_grid={&#x27;logi__C&#x27;: [0.001, 0.1, 1, 10],\n",
       "                         &#x27;tf_idf__max_df&#x27;: [0.5, 0.7, 0.8],\n",
       "                         &#x27;tf_idf__min_df&#x27;: [10, 20, 30],\n",
       "                         &#x27;tf_idf__ngram_range&#x27;: [(1, 1), (1, 2), (1, 3)]})</pre><b>In a Jupyter environment, please rerun this cell to show the HTML representation or trust the notebook. <br />On GitHub, the HTML representation is unable to render, please try loading this page with nbviewer.org.</b></div><div class=\"sk-container\" hidden><div class=\"sk-item sk-dashed-wrapped\"><div class=\"sk-label-container\"><div class=\"sk-label sk-toggleable\"><input class=\"sk-toggleable__control sk-hidden--visually\" id=\"sk-estimator-id-14\" type=\"checkbox\" ><label for=\"sk-estimator-id-14\" class=\"sk-toggleable__label sk-toggleable__label-arrow\">GridSearchCV</label><div class=\"sk-toggleable__content\"><pre>GridSearchCV(cv=3,\n",
       "             estimator=Pipeline(steps=[(&#x27;tf_idf&#x27;, TfidfVectorizer()),\n",
       "                                       (&#x27;logi&#x27;, LogisticRegression())]),\n",
       "             param_grid={&#x27;logi__C&#x27;: [0.001, 0.1, 1, 10],\n",
       "                         &#x27;tf_idf__max_df&#x27;: [0.5, 0.7, 0.8],\n",
       "                         &#x27;tf_idf__min_df&#x27;: [10, 20, 30],\n",
       "                         &#x27;tf_idf__ngram_range&#x27;: [(1, 1), (1, 2), (1, 3)]})</pre></div></div></div><div class=\"sk-parallel\"><div class=\"sk-parallel-item\"><div class=\"sk-item\"><div class=\"sk-label-container\"><div class=\"sk-label sk-toggleable\"><input class=\"sk-toggleable__control sk-hidden--visually\" id=\"sk-estimator-id-15\" type=\"checkbox\" ><label for=\"sk-estimator-id-15\" class=\"sk-toggleable__label sk-toggleable__label-arrow\">estimator: Pipeline</label><div class=\"sk-toggleable__content\"><pre>Pipeline(steps=[(&#x27;tf_idf&#x27;, TfidfVectorizer()), (&#x27;logi&#x27;, LogisticRegression())])</pre></div></div></div><div class=\"sk-serial\"><div class=\"sk-item\"><div class=\"sk-serial\"><div class=\"sk-item\"><div class=\"sk-estimator sk-toggleable\"><input class=\"sk-toggleable__control sk-hidden--visually\" id=\"sk-estimator-id-16\" type=\"checkbox\" ><label for=\"sk-estimator-id-16\" class=\"sk-toggleable__label sk-toggleable__label-arrow\">TfidfVectorizer</label><div class=\"sk-toggleable__content\"><pre>TfidfVectorizer()</pre></div></div></div><div class=\"sk-item\"><div class=\"sk-estimator sk-toggleable\"><input class=\"sk-toggleable__control sk-hidden--visually\" id=\"sk-estimator-id-17\" type=\"checkbox\" ><label for=\"sk-estimator-id-17\" class=\"sk-toggleable__label sk-toggleable__label-arrow\">LogisticRegression</label><div class=\"sk-toggleable__content\"><pre>LogisticRegression()</pre></div></div></div></div></div></div></div></div></div></div></div></div>"
      ],
      "text/plain": [
       "GridSearchCV(cv=3,\n",
       "             estimator=Pipeline(steps=[('tf_idf', TfidfVectorizer()),\n",
       "                                       ('logi', LogisticRegression())]),\n",
       "             param_grid={'logi__C': [0.001, 0.1, 1, 10],\n",
       "                         'tf_idf__max_df': [0.5, 0.7, 0.8],\n",
       "                         'tf_idf__min_df': [10, 20, 30],\n",
       "                         'tf_idf__ngram_range': [(1, 1), (1, 2), (1, 3)]})"
      ]
     },
     "execution_count": 156,
     "metadata": {},
     "output_type": "execute_result"
    }
   ],
   "source": [
    "from sklearn.model_selection import GridSearchCV\n",
    "\n",
    "grid_params = {\n",
    "    \"tf_idf__ngram_range\" : [(1,1),(1,2),(1,3)],\n",
    "    \"tf_idf__max_df\" : [0.5, 0.7, 0.8],\n",
    "    \"tf_idf__min_df\" : [10, 20, 30],\n",
    "    \"logi__C\" : [0.001, 0.1, 1, 10],\n",
    "}\n",
    "\n",
    "gridsearch = GridSearchCV(\n",
    "    pipeline,\n",
    "    grid_params,\n",
    "    cv = 3\n",
    ")\n",
    "\n",
    "gridsearch.fit(konlpy_morphs_train,y_train) "
   ]
  },
  {
   "cell_type": "markdown",
   "metadata": {},
   "source": [
    "총 조합 수는 \n",
    "- n_gram_range 3개\n",
    "- max_df 3개\n",
    "- min_df 3개\n",
    "- C 4개\n",
    "\n",
    "으로 3x3x3x4 = 108개의 조합을 시도하고, `cv = 3`이기 때문에 각 조합마다 3번씩 학습, 총 324번을 학습한다. <br>시간이 오래 걸리는 이유이다.\n"
   ]
  },
  {
   "cell_type": "code",
   "execution_count": null,
   "metadata": {},
   "outputs": [],
   "source": []
  },
  {
   "cell_type": "markdown",
   "metadata": {},
   "source": [
    "\n",
    "`best_params_` 메소드를 통해 최적의 하이퍼파라미터를 출력한다.\n",
    "\n",
    "`best_estimator_` 메소드로 최적의 파라미터로 학습한 모델을 불러온다."
   ]
  },
  {
   "cell_type": "code",
   "execution_count": 159,
   "metadata": {},
   "outputs": [
    {
     "data": {
      "text/plain": [
       "{'logi__C': 1,\n",
       " 'tf_idf__max_df': 0.5,\n",
       " 'tf_idf__min_df': 10,\n",
       " 'tf_idf__ngram_range': (1, 1)}"
      ]
     },
     "execution_count": 159,
     "metadata": {},
     "output_type": "execute_result"
    }
   ],
   "source": [
    "gridsearch.best_params_"
   ]
  },
  {
   "cell_type": "code",
   "execution_count": 160,
   "metadata": {},
   "outputs": [
    {
     "name": "stdout",
     "output_type": "stream",
     "text": [
      "              precision    recall  f1-score   support\n",
      "\n",
      "           0       0.55      0.32      0.40       109\n",
      "           1       0.71      0.62      0.66        76\n",
      "           2       0.70      0.50      0.58        74\n",
      "           3       0.76      0.38      0.51       111\n",
      "           4       1.00      0.19      0.32        32\n",
      "           5       0.83      0.52      0.64        58\n",
      "           6       0.80      0.63      0.71        52\n",
      "           7       0.00      0.00      0.00        30\n",
      "           8       0.34      0.40      0.37       199\n",
      "           9       0.44      0.76      0.56       259\n",
      "\n",
      "    accuracy                           0.51      1000\n",
      "   macro avg       0.61      0.43      0.47      1000\n",
      "weighted avg       0.55      0.51      0.49      1000\n",
      "\n"
     ]
    }
   ],
   "source": [
    "best_model = gridsearch.best_estimator_\n",
    "\n",
    "# 최적의 파라미터 모델 예측\n",
    "best_param_pred = best_model.predict(konlpy_morphs_test)\n",
    "\n",
    "# 예측 결과 지표\n",
    "print(classification_report(y_test, best_param_pred))"
   ]
  },
  {
   "cell_type": "markdown",
   "metadata": {},
   "source": [
    "0.51로 여전히 낮다."
   ]
  },
  {
   "cell_type": "markdown",
   "metadata": {},
   "source": [
    "## 6. 결과\n",
    "\n",
    "어떤 단어가 분류에 가중치를 많이 주었는지 분류 모델을 통해 시각화 해보았다."
   ]
  },
  {
   "cell_type": "code",
   "execution_count": 171,
   "metadata": {},
   "outputs": [],
   "source": [
    "vocab = best_model.steps[0][1].vocabulary_\n",
    "weight = best_model.steps[1][1].coef_\n",
    "\n",
    "df = pd.DataFrame([vocab.keys(), vocab.values()]).T\n",
    "df.sort_values(by=1, inplace=True)\n",
    "df[\"W\"] = weight[6]\n",
    "df.columns = ['단어', \"인덱스\", \"가중치\"]\n",
    "df.set_index('인덱스', inplace=True)"
   ]
  },
  {
   "cell_type": "code",
   "execution_count": 172,
   "metadata": {},
   "outputs": [
    {
     "data": {
      "text/html": [
       "<div>\n",
       "<style scoped>\n",
       "    .dataframe tbody tr th:only-of-type {\n",
       "        vertical-align: middle;\n",
       "    }\n",
       "\n",
       "    .dataframe tbody tr th {\n",
       "        vertical-align: top;\n",
       "    }\n",
       "\n",
       "    .dataframe thead th {\n",
       "        text-align: right;\n",
       "    }\n",
       "</style>\n",
       "<table border=\"1\" class=\"dataframe\">\n",
       "  <thead>\n",
       "    <tr style=\"text-align: right;\">\n",
       "      <th></th>\n",
       "      <th>단어</th>\n",
       "      <th>가중치</th>\n",
       "    </tr>\n",
       "    <tr>\n",
       "      <th>인덱스</th>\n",
       "      <th></th>\n",
       "      <th></th>\n",
       "    </tr>\n",
       "  </thead>\n",
       "  <tbody>\n",
       "    <tr>\n",
       "      <th>19</th>\n",
       "      <td>개독</td>\n",
       "      <td>3.961684</td>\n",
       "    </tr>\n",
       "    <tr>\n",
       "      <th>127</th>\n",
       "      <td>목사</td>\n",
       "      <td>3.946740</td>\n",
       "    </tr>\n",
       "    <tr>\n",
       "      <th>186</th>\n",
       "      <td>슬람</td>\n",
       "      <td>3.435409</td>\n",
       "    </tr>\n",
       "    <tr>\n",
       "      <th>312</th>\n",
       "      <td>종교</td>\n",
       "      <td>3.332901</td>\n",
       "    </tr>\n",
       "    <tr>\n",
       "      <th>31</th>\n",
       "      <td>교회</td>\n",
       "      <td>2.903494</td>\n",
       "    </tr>\n",
       "  </tbody>\n",
       "</table>\n",
       "</div>"
      ],
      "text/plain": [
       "     단어       가중치\n",
       "인덱스              \n",
       "19   개독  3.961684\n",
       "127  목사  3.946740\n",
       "186  슬람  3.435409\n",
       "312  종교  3.332901\n",
       "31   교회  2.903494"
      ]
     },
     "execution_count": 172,
     "metadata": {},
     "output_type": "execute_result"
    }
   ],
   "source": [
    "df.sort_values('가중치', ascending=False).head()"
   ]
  },
  {
   "cell_type": "code",
   "execution_count": 173,
   "metadata": {},
   "outputs": [
    {
     "data": {
      "image/png": "[encoded data removed]",
      "text/plain": [
       "<Figure size 1000x1000 with 1 Axes>"
      ]
     },
     "metadata": {},
     "output_type": "display_data"
    }
   ],
   "source": [
    "import matplotlib\n",
    "import matplotlib.pyplot as plt\n",
    "import matplotlib.font_manager as fm\n",
    "import squarify\n",
    "fontpath = '/usr/share/fonts/truetype/nanum/NanumGothic.ttf'\n",
    "font_name = fm.FontProperties(fname=fontpath, size=10).get_name()\n",
    "plt.rc('font', family=font_name)\n",
    "\n",
    "plt.rcParams['figure.figsize'] = (10,10)\n",
    "plt.rcParams['font.size'] = 15\n",
    "\n",
    "sizes = df.sort_values(by='가중치', ascending=False).head(30)['가중치']\n",
    "labels= df.sort_values(by='가중치', ascending=False).head(30)['단어']\n",
    "\n",
    "norm = matplotlib.colors.Normalize(vmin=min(sizes),vmax=max(sizes))\n",
    "colors = [matplotlib.cm.Reds(norm(value)) for value in sizes]\n",
    "\n",
    "squarify.plot(sizes, 10, 10, label=labels, color=colors,bar_kwargs=dict(linewidth=8, edgecolor=\"#eee\"))\n",
    "plt.title(\"혐오에 활용되는 주요 키워드\")\n",
    "plt.axis('off')\n",
    "plt.show()"
   ]
  },
  {
   "cell_type": "markdown",
   "metadata": {},
   "source": [
    "종교에 관한 단어가 많다.\n",
    "\n",
    "클래스 불균형일수도..?"
   ]
  }
 ],
 "metadata": {
  "kernelspec": {
   "display_name": "Python 3",
   "language": "python",
   "name": "python3"
  },
  "language_info": {
   "codemirror_mode": {
    "name": "ipython",
    "version": 3
   },
   "file_extension": ".py",
   "mimetype": "text/x-python",
   "name": "python",
   "nbconvert_exporter": "python",
   "pygments_lexer": "ipython3",
   "version": "3.10.12"
  }
 },
 "nbformat": 4,
 "nbformat_minor": 2
}
